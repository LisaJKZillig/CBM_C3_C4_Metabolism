{
 "cells": [
  {
   "cell_type": "markdown",
   "metadata": {
    "run_control": {
     "marked": true
    }
   },
   "source": [
    "# Effect of the CO2 uptake rate on C3 metabolism\n"
   ]
  },
  {
   "cell_type": "markdown",
   "metadata": {
    "run_control": {
     "marked": true
    }
   },
   "source": [
    "## 0. Initialization"
   ]
  },
  {
   "cell_type": "markdown",
   "metadata": {
    "run_control": {
     "marked": true
    }
   },
   "source": [
    "### 0.1 Load Packages"
   ]
  },
  {
   "cell_type": "code",
   "execution_count": 1,
   "metadata": {
    "ExecuteTime": {
     "end_time": "2019-05-06T13:44:27.442369Z",
     "start_time": "2019-05-06T15:44:25.869165+02:00"
    },
    "code_folding": [],
    "collapsed": false,
    "run_control": {
     "marked": true
    }
   },
   "outputs": [
    {
     "name": "stderr",
     "output_type": "stream",
     "text": [
      "//anaconda/lib/python2.7/site-packages/cryptography/hazmat/primitives/constant_time.py:26 \u001b[1;31mCryptographyDeprecationWarning\u001b[0m: Support for your Python version is deprecated. The next version of cryptography will remove support. Please upgrade to a 2.7.x release that supports hmac.compare_digest as soon as possible.\n"
     ]
    },
    {
     "data": {
      "text/html": [
       "        <script type=\"text/javascript\">\n",
       "        window.PlotlyConfig = {MathJaxConfig: 'local'};\n",
       "        if (window.MathJax) {MathJax.Hub.Config({SVG: {font: \"STIX-Web\"}});}\n",
       "        if (typeof require !== 'undefined') {\n",
       "        require.undef(\"plotly\");\n",
       "        requirejs.config({\n",
       "            paths: {\n",
       "                'plotly': ['https://cdn.plot.ly/plotly-latest.min']\n",
       "            }\n",
       "        });\n",
       "        require(['plotly'], function(Plotly) {\n",
       "            window._Plotly = Plotly;\n",
       "        });\n",
       "        }\n",
       "        </script>\n",
       "        "
      ]
     },
     "metadata": {},
     "output_type": "display_data"
    }
   ],
   "source": [
    "#Import sys\n",
    "import sys \n",
    "sys.path.append(\"../src/\") \n",
    "\n",
    "#Import init for initialisation & loading user-defined functions\n",
    "from init_fba import *\n",
    "\n",
    "#Initialize notebook settings\n",
    "theNotebook = '2019-05-06-mb-genC3-CO2-Effect'\n",
    "init_notebook(theNotebook)\n",
    "\n",
    "#load sbml model\n",
    "c3_model = load_sbml_model()\n",
    "\n",
    "#inf  \n",
    "inf = float(1e6) "
   ]
  },
  {
   "cell_type": "markdown",
   "metadata": {
    "run_control": {
     "marked": true
    }
   },
   "source": [
    "## 1. C3 Model"
   ]
  },
  {
   "cell_type": "markdown",
   "metadata": {
    "ExecuteTime": {
     "end_time": "2017-06-20T12:42:07.597174",
     "start_time": "2017-06-20T12:42:07.594879"
    },
    "run_control": {
     "marked": true
    }
   },
   "source": [
    "### 1.1 Constraints"
   ]
  },
  {
   "cell_type": "code",
   "execution_count": 2,
   "metadata": {
    "ExecuteTime": {
     "end_time": "2019-05-06T13:44:27.462766Z",
     "start_time": "2019-05-06T15:44:27.443742+02:00"
    },
    "collapsed": false,
    "run_control": {
     "marked": true
    }
   },
   "outputs": [],
   "source": [
    "#CONSTRAINT: Set flux of all export reaction to zero\n",
    "for r_obj in c3_model.reactions:\n",
    "    r_id = r_obj.id\n",
    "    if r_id[0:2] == \"Ex\":\n",
    "        r_obj.bounds = (0.,0.)\n",
    "\n",
    "#CONSTRAINT: Divergent fluxes of export and import reactions\n",
    "set_bounds('Im_CO2', (-inf, inf), c3_model)\n",
    "set_bounds('Im_H2O', (-inf, inf), c3_model)\n",
    "set_bounds('Im_H2S', (0.,0.), c3_model)\n",
    "set_bounds('Im_NH4', (0., 0.), c3_model)\n",
    "set_bounds('Im_NO3', (0., inf), c3_model)\n",
    "set_bounds('Im_Pi', (0., inf), c3_model)\n",
    "set_bounds('Im_SO4', (0., inf), c3_model)\n",
    "set_bounds('Ex_O2', (-inf, inf), c3_model)\n",
    "set_bounds('Ex_Suc', (0., inf), c3_model)\n",
    "set_bounds('Ex_starch', (0., inf), c3_model)\n",
    "set_bounds('Ex_AA', (0., inf), c3_model)\n",
    "\n",
    "#CONSTRAINT: \n",
    "set_bounds('G6PDH_h', (0.,0.), c3_model)\n",
    "set_bounds('PPIF6PK_c', (0,0.), c3_model)\n",
    "\n",
    "#CONSTRAINT: max. photon consumption 1000 μE\n",
    "set_bounds('Im_hnu', (0, 1000), c3_model)\n",
    "\n",
    "#CONSTRAINT: CO2 uptake rate in C3 plants is about 20 μmol/(m2*s)\n",
    "f_CO2 = 20 #[μmol/(m2*s)] \n",
    "set_bounds('Im_CO2', (0, f_CO2), c3_model)"
   ]
  },
  {
   "cell_type": "code",
   "execution_count": 3,
   "metadata": {
    "ExecuteTime": {
     "end_time": "2019-05-06T13:44:27.468894Z",
     "start_time": "2019-05-06T15:44:27.464134+02:00"
    },
    "collapsed": false,
    "run_control": {
     "marked": true
    }
   },
   "outputs": [],
   "source": [
    "#CONSTRAINT: Maintenace cost\n",
    "\n",
    "atp_cost_L3_m = 0.009111187245501572 #Mitochondria-L3-ATP Cost [µmol*s-1*m-2]\n",
    "atp_cost_L3_h = 0.15270708327974447 #Chloroplast-L3-ATP Cost [µmol*s-1*m-2]\n",
    "atp_cost_L3_p = 0.0076669066992201855 #Peroxisome-L3-ATP Cost [µmol*s-1*m-2]\n",
    "atp_cost_L3_c = 0.042683072918274702 #Cytosl/Other-L3-ATP Cost [µmol*s-1*m-2]\n",
    "\n",
    "set_fixed_flux('NGAM_c',atp_cost_L3_c + atp_cost_L3_p, c3_model)\n",
    "set_fixed_flux('NGAM_m',atp_cost_L3_m, c3_model)\n",
    "set_fixed_flux('NGAM_h',atp_cost_L3_h, c3_model)"
   ]
  },
  {
   "cell_type": "code",
   "execution_count": 4,
   "metadata": {
    "ExecuteTime": {
     "end_time": "2019-05-06T13:44:27.480379Z",
     "start_time": "2019-05-06T15:44:27.470321+02:00"
    },
    "collapsed": false
   },
   "outputs": [
    {
     "data": {
      "text/plain": [
       "<optlang.glpk_interface.Constraint at 0x11892edd0>"
      ]
     },
     "execution_count": 4,
     "metadata": {},
     "output_type": "execute_result"
    }
   ],
   "source": [
    "#CONSTRAINT: Output of sucrose : total amino acid and sucrose : starch\n",
    "set_fixed_flux_ratio({'Ex_Suc':2.2,'Ex_AA':1.0}, c3_model)\n",
    "set_fixed_flux_ratio({'Ex_Suc':1.0,'Ex_starch':1.0}, c3_model)"
   ]
  },
  {
   "cell_type": "code",
   "execution_count": 5,
   "metadata": {
    "ExecuteTime": {
     "end_time": "2019-05-06T13:44:27.489431Z",
     "start_time": "2019-05-06T15:44:27.481898+02:00"
    },
    "collapsed": false
   },
   "outputs": [
    {
     "data": {
      "text/plain": [
       "<optlang.glpk_interface.Constraint at 0x10672c990>"
      ]
     },
     "execution_count": 5,
     "metadata": {},
     "output_type": "execute_result"
    }
   ],
   "source": [
    "#CONSTRAINT: oxygenation : decarboxylation = 1 : 10\n",
    "set_fixed_flux_ratio({'RBC_h':10,'RBO_h':1}, c3_model)"
   ]
  },
  {
   "cell_type": "code",
   "execution_count": 6,
   "metadata": {
    "ExecuteTime": {
     "end_time": "2019-05-06T13:44:27.495582Z",
     "start_time": "2019-05-06T15:44:27.491840+02:00"
    },
    "collapsed": true,
    "run_control": {
     "marked": true
    }
   },
   "outputs": [],
   "source": [
    "#CONSTRAINT: fluxes through the chloroplastic NADPH dehydrogenase and plastoquinol oxidase were set to zero \n",
    "#because the contributions of NADPH dehydrogenase (Yamamoto et al., 2011) and plastoquinol oxidase \n",
    "#(Josse et al., 2000) to photosynthesis are thought to be minor.\n",
    "set_bounds('AOX4_h',(0,0), c3_model)\n",
    "set_bounds('iCitDHNADP_h',(0,0), c3_model)"
   ]
  },
  {
   "cell_type": "code",
   "execution_count": 7,
   "metadata": {
    "ExecuteTime": {
     "end_time": "2019-05-06T13:44:27.500110Z",
     "start_time": "2019-05-06T15:44:27.497040+02:00"
    },
    "collapsed": true
   },
   "outputs": [],
   "source": [
    "#CONSTRAINT: NTT is only active at night\n",
    "set_fixed_flux('Tr_NTT',0, c3_model)"
   ]
  },
  {
   "cell_type": "code",
   "execution_count": 8,
   "metadata": {
    "ExecuteTime": {
     "end_time": "2019-05-06T13:44:27.505273Z",
     "start_time": "2019-05-06T15:44:27.501802+02:00"
    },
    "collapsed": true
   },
   "outputs": [],
   "source": [
    "#CONSTRAINT: No uncoupled pyruvate transport\n",
    "set_bounds('Tr_Pyr1',(0,0), c3_model)\n",
    "set_bounds('Tr_Pyr2',(0,0), c3_model)"
   ]
  },
  {
   "cell_type": "markdown",
   "metadata": {
    "run_control": {
     "marked": true
    }
   },
   "source": [
    "## 2. FBA"
   ]
  },
  {
   "cell_type": "code",
   "execution_count": 9,
   "metadata": {
    "ExecuteTime": {
     "end_time": "2019-05-06T13:44:28.871240Z",
     "start_time": "2019-05-06T15:44:27.506777+02:00"
    },
    "collapsed": true
   },
   "outputs": [],
   "source": [
    "#Set FBA solver\n",
    "c3_model.solver = \"glpk\"\n",
    "\n",
    "#Optimize/Maximize sucrose output\n",
    "result_fba_c3 = c3_model.optimize('maximize') #perform FBA\n",
    "Ex_Suc = c3_model.reactions.get_by_id(\"Ex_Suc\")\n",
    "Ex_Suc.objective_coefficient = 1.\n",
    "\n",
    "#Optimize/Minimize total flux\n",
    "if result_fba_c3.status == 'optimal': \n",
    "    result_pfba_c3 = cobra.flux_analysis.parsimonious.pfba(c3_model)\n",
    "\n",
    "#Fetch flux for CO2 uptake\n",
    "flux_CO2 = result_pfba_c3.fluxes['Im_CO2']\n",
    "\n",
    "\n",
    "#Array defining proprtion of CO2 uptake \n",
    "L_CO2 = np.linspace(0,1,21)\n",
    "\n",
    "#Initialize dictionary to store results\n",
    "D_fba = {}\n",
    "\n",
    "#Iterate over proportions of CO2 uptake\n",
    "for v_co2 in L_CO2:\n",
    "    \n",
    "    #Fix upper flux bound for photon uptake\n",
    "    set_bounds('Im_CO2', (0, flux_CO2 * v_co2), c3_model)\n",
    "    \n",
    "    #Optimize/Maximize sucrose output\n",
    "    result_fba_c3 = c3_model.optimize('maximize') #perform FBA\n",
    "    \n",
    "    #Optimize/Minimize total flux\n",
    "    if result_fba_c3.status == 'optimal': # check if feasible\n",
    "        result_pfba_c3  = cobra.flux_analysis.parsimonious.pfba(c3_model) #perform pFBA\n",
    "        D_fba[flux_CO2 * v_co2] = result_pfba_c3.fluxes\n",
    "    else:\n",
    "        D_fba[flux_CO2 * v_co2] = pd.Series(pd.Series( index=[r_obj.id for r_obj in c3_model.reactions], data = [0]*len(c3_model.reactions)))"
   ]
  },
  {
   "cell_type": "markdown",
   "metadata": {
    "ExecuteTime": {
     "end_time": "2018-02-06T17:54:23.611334+01:00",
     "start_time": "2018-02-06T17:54:23.609194"
    },
    "run_control": {
     "marked": true
    }
   },
   "source": [
    "## 4 Figures"
   ]
  },
  {
   "cell_type": "code",
   "execution_count": 10,
   "metadata": {
    "ExecuteTime": {
     "end_time": "2019-05-06T13:44:28.875121Z",
     "start_time": "2019-05-06T15:44:28.872593+02:00"
    },
    "collapsed": true
   },
   "outputs": [],
   "source": [
    "xaxis_title = 'CO2 Uptake [µmol/s/m2]'\n",
    "save_fig = False"
   ]
  },
  {
   "cell_type": "code",
   "execution_count": 11,
   "metadata": {
    "ExecuteTime": {
     "end_time": "2019-05-06T13:44:29.079245Z",
     "start_time": "2019-05-06T15:44:28.877151+02:00"
    },
    "collapsed": false
   },
   "outputs": [
    {
     "data": {
      "application/vnd.plotly.v1+json": {
       "config": {
        "linkText": "Export to plot.ly",
        "plotlyServerURL": "https://plot.ly",
        "showLink": false
       },
       "data": [
        {
         "mode": "lines+markers",
         "name": "Ex_Suc",
         "type": "scatter",
         "uid": "0f6912ee-6160-405c-8197-14cb9003c868",
         "x": [
          0,
          1.0000000000000016,
          2.000000000000003,
          3.0000000000000053,
          4.000000000000006,
          5.000000000000008,
          6.000000000000011,
          7.0000000000000115,
          8.000000000000012,
          9.000000000000014,
          10.000000000000016,
          11.000000000000018,
          12.000000000000021,
          13.000000000000021,
          14.000000000000023,
          15.000000000000025,
          16.000000000000025,
          17.00000000000003,
          18.00000000000003,
          19.000000000000032,
          20.000000000000032
         ],
         "y": [
          -1.5949827616103407e-18,
          0.038358935016476976,
          0.07671787003295798,
          0.11507680504943699,
          0.1534357400659157,
          0.19179467508239478,
          0.23015361009881294,
          0.26851254511535255,
          0.3068714801318311,
          0.3452304151483107,
          0.38358935016478923,
          0.4219482851812073,
          0.4603072201976863,
          0.4986661552141042,
          0.5370250902305836,
          0.575384025247062,
          0.6137429602636628,
          0.6521018952801418,
          0.6904608302966208,
          0.7288197653131003,
          0.7671787003294568
         ]
        },
        {
         "mode": "lines+markers",
         "name": "Ex_AA",
         "type": "scatter",
         "uid": "93e87fff-ea41-422b-ba31-113387df486d",
         "x": [
          0,
          1.0000000000000016,
          2.000000000000003,
          3.0000000000000053,
          4.000000000000006,
          5.000000000000008,
          6.000000000000011,
          7.0000000000000115,
          8.000000000000012,
          9.000000000000014,
          10.000000000000016,
          11.000000000000018,
          12.000000000000021,
          13.000000000000021,
          14.000000000000023,
          15.000000000000025,
          16.000000000000025,
          17.00000000000003,
          18.00000000000003,
          19.000000000000032,
          20.000000000000032
         ],
         "y": [
          -7.249921643683366e-19,
          0.017435879552944077,
          0.034871759105889986,
          0.05230763865883499,
          0.06974351821177986,
          0.0871793977647249,
          0.10461527731764224,
          0.12205115687061478,
          0.13948703642355956,
          0.15692291597650485,
          0.17435879552944963,
          0.19179467508236694,
          0.20923055463531193,
          0.22666643418822915,
          0.2441023137411744,
          0.2615381932941191,
          0.27897407284711945,
          0.29640995240006446,
          0.3138458319530094,
          0.33128171150595465,
          0.348717591058844
         ]
        }
       ],
       "layout": {
        "title": {
         "text": "Phloem Export"
        },
        "width": 500,
        "xaxis": {
         "title": {
          "text": "CO2 Uptake [µmol/s/m2]"
         }
        },
        "yaxis": {
         "title": {
          "text": "Flux [µmol/s/m2]"
         }
        }
       }
      },
      "text/html": [
       "<div>\n",
       "        \n",
       "        \n",
       "            <div id=\"22023685-0e71-480d-94d2-c3023d748e33\" class=\"plotly-graph-div\"></div>\n",
       "            <script type=\"text/javascript\">\n",
       "                require([\"plotly\"], function(Plotly) {\n",
       "                    window.PLOTLYENV=window.PLOTLYENV || {};\n",
       "                    window.PLOTLYENV.BASE_URL='https://plot.ly';\n",
       "                    \n",
       "                if (document.getElementById(\"22023685-0e71-480d-94d2-c3023d748e33\")) {\n",
       "                    Plotly.newPlot(\n",
       "                        '22023685-0e71-480d-94d2-c3023d748e33',\n",
       "                        [{\"mode\": \"lines+markers\", \"name\": \"Ex_Suc\", \"type\": \"scatter\", \"uid\": \"09b84232-d349-41e9-b14d-19267c7e1f17\", \"x\": [0.0, 1.0000000000000016, 2.000000000000003, 3.0000000000000053, 4.000000000000006, 5.000000000000008, 6.000000000000011, 7.0000000000000115, 8.000000000000012, 9.000000000000014, 10.000000000000016, 11.000000000000018, 12.000000000000021, 13.000000000000021, 14.000000000000023, 15.000000000000025, 16.000000000000025, 17.00000000000003, 18.00000000000003, 19.000000000000032, 20.000000000000032], \"y\": [-1.5949827616103407e-18, 0.038358935016476976, 0.07671787003295798, 0.11507680504943699, 0.1534357400659157, 0.19179467508239478, 0.23015361009881294, 0.26851254511535255, 0.3068714801318311, 0.3452304151483107, 0.38358935016478923, 0.4219482851812073, 0.4603072201976863, 0.4986661552141042, 0.5370250902305836, 0.575384025247062, 0.6137429602636628, 0.6521018952801418, 0.6904608302966208, 0.7288197653131003, 0.7671787003294568]}, {\"mode\": \"lines+markers\", \"name\": \"Ex_AA\", \"type\": \"scatter\", \"uid\": \"0f49bfad-21e9-4915-b049-ab6d92fb4474\", \"x\": [0.0, 1.0000000000000016, 2.000000000000003, 3.0000000000000053, 4.000000000000006, 5.000000000000008, 6.000000000000011, 7.0000000000000115, 8.000000000000012, 9.000000000000014, 10.000000000000016, 11.000000000000018, 12.000000000000021, 13.000000000000021, 14.000000000000023, 15.000000000000025, 16.000000000000025, 17.00000000000003, 18.00000000000003, 19.000000000000032, 20.000000000000032], \"y\": [-7.249921643683366e-19, 0.017435879552944077, 0.034871759105889986, 0.05230763865883499, 0.06974351821177986, 0.0871793977647249, 0.10461527731764224, 0.12205115687061478, 0.13948703642355956, 0.15692291597650485, 0.17435879552944963, 0.19179467508236694, 0.20923055463531193, 0.22666643418822915, 0.2441023137411744, 0.2615381932941191, 0.27897407284711945, 0.29640995240006446, 0.3138458319530094, 0.33128171150595465, 0.348717591058844]}],\n",
       "                        {\"title\": {\"text\": \"Phloem Export\"}, \"width\": 500, \"xaxis\": {\"title\": {\"text\": \"CO2 Uptake [\\u00b5mol/s/m2]\"}}, \"yaxis\": {\"title\": {\"text\": \"Flux [\\u00b5mol/s/m2]\"}}},\n",
       "                        {\"plotlyServerURL\": \"https://plot.ly\", \"linkText\": \"Export to plot.ly\", \"showLink\": false}\n",
       "                    )\n",
       "                };\n",
       "                });\n",
       "            </script>\n",
       "        </div>"
      ]
     },
     "metadata": {},
     "output_type": "display_data"
    }
   ],
   "source": [
    "L_r = ['Ex_Suc','Ex_AA']\n",
    "create_scatter_plot_rxn_c3(D_fba, L_r, 'Phloem Export', xaxis_title, save_fig = save_fig)"
   ]
  },
  {
   "cell_type": "code",
   "execution_count": 12,
   "metadata": {
    "ExecuteTime": {
     "end_time": "2019-05-06T13:44:29.329402Z",
     "start_time": "2019-05-06T15:44:29.080701+02:00"
    },
    "collapsed": false
   },
   "outputs": [
    {
     "data": {
      "application/vnd.plotly.v1+json": {
       "config": {
        "linkText": "Export to plot.ly",
        "plotlyServerURL": "https://plot.ly",
        "showLink": false
       },
       "data": [
        {
         "name": "PSI_h",
         "type": "bar",
         "uid": "5f68c6df-9e2d-4735-869f-1cb28a024e4f",
         "x": [
          0,
          1.0000000000000016,
          2.000000000000003,
          3.0000000000000053,
          4.000000000000006,
          5.000000000000008,
          6.000000000000011,
          7.0000000000000115,
          8.000000000000012,
          9.000000000000014,
          10.000000000000016,
          11.000000000000018,
          12.000000000000021,
          13.000000000000021,
          14.000000000000023,
          15.000000000000025,
          16.000000000000025,
          17.00000000000003,
          18.00000000000003,
          19.000000000000032,
          20.000000000000032
         ],
         "y": [
          0.16162625830919392,
          4.929000653444774,
          9.750415185262424,
          14.581725898553755,
          19.41303661184509,
          24.24943656405588,
          29.086019578883565,
          33.92579230000107,
          38.76723738569868,
          43.60868247139629,
          48.450127557093886,
          53.29157264278379,
          58.13301772848141,
          62.97446281417131,
          67.81590789986892,
          72.6573529855665,
          77.49879807127957,
          82.33897278846274,
          87.17785046705433,
          92.01672814564586,
          96.85560582422198
         ]
        },
        {
         "name": "PSII_h",
         "type": "bar",
         "uid": "6b0fb06c-9217-4d1e-92a5-f9fd3fbf050c",
         "x": [
          0,
          1.0000000000000016,
          2.000000000000003,
          3.0000000000000053,
          4.000000000000006,
          5.000000000000008,
          6.000000000000011,
          7.0000000000000115,
          8.000000000000012,
          9.000000000000014,
          10.000000000000016,
          11.000000000000018,
          12.000000000000021,
          13.000000000000021,
          14.000000000000023,
          15.000000000000025,
          16.000000000000025,
          17.00000000000003,
          18.00000000000003,
          19.000000000000032,
          20.000000000000032
         ],
         "y": [
          0.03567670011779772,
          4.908315859084388,
          9.750415185262424,
          14.581725898553755,
          19.41303661184509,
          24.24943656405588,
          29.086019578883565,
          33.92579230000107,
          38.76723738569868,
          43.60868247139629,
          48.450127557093886,
          53.29157264278379,
          58.13301772848141,
          62.97446281417131,
          67.81590789986892,
          72.6573529855665,
          77.49879807127957,
          82.33897278846274,
          87.17785046705433,
          92.01672814564586,
          96.85560582422198
         ]
        }
       ],
       "layout": {
        "barmode": "stack",
        "title": {
         "text": "Photon Uptake by Photosystems"
        },
        "width": 500,
        "xaxis": {
         "title": {
          "text": "CO2 Uptake [µmol/s/m2]"
         }
        },
        "yaxis": {
         "title": {
          "text": "Flux [µmol/s/m2]"
         }
        }
       }
      },
      "text/html": [
       "<div>\n",
       "        \n",
       "        \n",
       "            <div id=\"e7162023-339b-4746-a4a0-ca63bc0e941c\" class=\"plotly-graph-div\"></div>\n",
       "            <script type=\"text/javascript\">\n",
       "                require([\"plotly\"], function(Plotly) {\n",
       "                    window.PLOTLYENV=window.PLOTLYENV || {};\n",
       "                    window.PLOTLYENV.BASE_URL='https://plot.ly';\n",
       "                    \n",
       "                if (document.getElementById(\"e7162023-339b-4746-a4a0-ca63bc0e941c\")) {\n",
       "                    Plotly.newPlot(\n",
       "                        'e7162023-339b-4746-a4a0-ca63bc0e941c',\n",
       "                        [{\"name\": \"PSI_h\", \"type\": \"bar\", \"uid\": \"eebb5995-b792-4e1f-a71e-1f485e6a4968\", \"x\": [0.0, 1.0000000000000016, 2.000000000000003, 3.0000000000000053, 4.000000000000006, 5.000000000000008, 6.000000000000011, 7.0000000000000115, 8.000000000000012, 9.000000000000014, 10.000000000000016, 11.000000000000018, 12.000000000000021, 13.000000000000021, 14.000000000000023, 15.000000000000025, 16.000000000000025, 17.00000000000003, 18.00000000000003, 19.000000000000032, 20.000000000000032], \"y\": [0.16162625830919392, 4.929000653444774, 9.750415185262424, 14.581725898553755, 19.41303661184509, 24.24943656405588, 29.086019578883565, 33.92579230000107, 38.76723738569868, 43.60868247139629, 48.450127557093886, 53.29157264278379, 58.13301772848141, 62.97446281417131, 67.81590789986892, 72.6573529855665, 77.49879807127957, 82.33897278846274, 87.17785046705433, 92.01672814564586, 96.85560582422198]}, {\"name\": \"PSII_h\", \"type\": \"bar\", \"uid\": \"3df57b0c-6c69-49d5-87bb-2e56822854ad\", \"x\": [0.0, 1.0000000000000016, 2.000000000000003, 3.0000000000000053, 4.000000000000006, 5.000000000000008, 6.000000000000011, 7.0000000000000115, 8.000000000000012, 9.000000000000014, 10.000000000000016, 11.000000000000018, 12.000000000000021, 13.000000000000021, 14.000000000000023, 15.000000000000025, 16.000000000000025, 17.00000000000003, 18.00000000000003, 19.000000000000032, 20.000000000000032], \"y\": [0.03567670011779772, 4.908315859084388, 9.750415185262424, 14.581725898553755, 19.41303661184509, 24.24943656405588, 29.086019578883565, 33.92579230000107, 38.76723738569868, 43.60868247139629, 48.450127557093886, 53.29157264278379, 58.13301772848141, 62.97446281417131, 67.81590789986892, 72.6573529855665, 77.49879807127957, 82.33897278846274, 87.17785046705433, 92.01672814564586, 96.85560582422198]}],\n",
       "                        {\"barmode\": \"stack\", \"title\": {\"text\": \"Photon Uptake by Photosystems\"}, \"width\": 500, \"xaxis\": {\"title\": {\"text\": \"CO2 Uptake [\\u00b5mol/s/m2]\"}}, \"yaxis\": {\"title\": {\"text\": \"Flux [\\u00b5mol/s/m2]\"}}},\n",
       "                        {\"plotlyServerURL\": \"https://plot.ly\", \"linkText\": \"Export to plot.ly\", \"showLink\": false}\n",
       "                    )\n",
       "                };\n",
       "                });\n",
       "            </script>\n",
       "        </div>"
      ]
     },
     "metadata": {},
     "output_type": "display_data"
    }
   ],
   "source": [
    "L_r = ['PSI_h','PSII_h']\n",
    "create_bar_plot_met_c3(c3_model, D_fba, L_r, 'hnu_h', 'Photon Uptake by Photosystems', xaxis_title, save_fig = save_fig)"
   ]
  },
  {
   "cell_type": "code",
   "execution_count": 13,
   "metadata": {
    "ExecuteTime": {
     "end_time": "2019-05-06T13:44:29.477270Z",
     "start_time": "2019-05-06T15:44:29.330810+02:00"
    },
    "collapsed": false,
    "run_control": {
     "marked": true
    }
   },
   "outputs": [
    {
     "data": {
      "application/vnd.plotly.v1+json": {
       "config": {
        "linkText": "Export to plot.ly",
        "plotlyServerURL": "https://plot.ly",
        "showLink": false
       },
       "data": [
        {
         "mode": "lines+markers",
         "name": "NDH1_h",
         "type": "scatter",
         "uid": "e112a04c-6afa-40ce-bfb6-3a0d7fb66f08",
         "x": [
          0,
          1.0000000000000016,
          2.000000000000003,
          3.0000000000000053,
          4.000000000000006,
          5.000000000000008,
          6.000000000000011,
          7.0000000000000115,
          8.000000000000012,
          9.000000000000014,
          10.000000000000016,
          11.000000000000018,
          12.000000000000021,
          13.000000000000021,
          14.000000000000023,
          15.000000000000025,
          16.000000000000025,
          17.00000000000003,
          18.00000000000003,
          19.000000000000032,
          20.000000000000032
         ],
         "y": [
          0.12594955819139633,
          0.020684794360386213,
          0,
          0,
          0,
          0,
          0,
          0,
          0,
          0,
          0,
          0,
          0,
          0,
          0,
          0,
          0,
          0,
          0,
          0,
          0
         ]
        },
        {
         "mode": "lines+markers",
         "name": "NDH2_h",
         "type": "scatter",
         "uid": "5e3ee550-f7bd-4f14-95c9-d1848a7958d0",
         "x": [
          0,
          1.0000000000000016,
          2.000000000000003,
          3.0000000000000053,
          4.000000000000006,
          5.000000000000008,
          6.000000000000011,
          7.0000000000000115,
          8.000000000000012,
          9.000000000000014,
          10.000000000000016,
          11.000000000000018,
          12.000000000000021,
          13.000000000000021,
          14.000000000000023,
          15.000000000000025,
          16.000000000000025,
          17.00000000000003,
          18.00000000000003,
          19.000000000000032,
          20.000000000000032
         ],
         "y": [
          0.06297477909569817,
          0.010342397180193107,
          0,
          0,
          0,
          0,
          0,
          0,
          0,
          0,
          0,
          0,
          0,
          0,
          0,
          0,
          0,
          0,
          0,
          0,
          0
         ]
        }
       ],
       "layout": {
        "title": {
         "text": "Cyclic Electron Flow"
        },
        "width": 500,
        "xaxis": {
         "title": {
          "text": "CO2 Uptake [µmol/s/m2]"
         }
        },
        "yaxis": {
         "title": {
          "text": "Flux [µmol/s/m2]"
         }
        }
       }
      },
      "text/html": [
       "<div>\n",
       "        \n",
       "        \n",
       "            <div id=\"9704401c-61b2-4df3-afe9-7c870c4c75c2\" class=\"plotly-graph-div\"></div>\n",
       "            <script type=\"text/javascript\">\n",
       "                require([\"plotly\"], function(Plotly) {\n",
       "                    window.PLOTLYENV=window.PLOTLYENV || {};\n",
       "                    window.PLOTLYENV.BASE_URL='https://plot.ly';\n",
       "                    \n",
       "                if (document.getElementById(\"9704401c-61b2-4df3-afe9-7c870c4c75c2\")) {\n",
       "                    Plotly.newPlot(\n",
       "                        '9704401c-61b2-4df3-afe9-7c870c4c75c2',\n",
       "                        [{\"mode\": \"lines+markers\", \"name\": \"NDH1_h\", \"type\": \"scatter\", \"uid\": \"42426d68-407c-4a2a-882e-957737a6ff21\", \"x\": [0.0, 1.0000000000000016, 2.000000000000003, 3.0000000000000053, 4.000000000000006, 5.000000000000008, 6.000000000000011, 7.0000000000000115, 8.000000000000012, 9.000000000000014, 10.000000000000016, 11.000000000000018, 12.000000000000021, 13.000000000000021, 14.000000000000023, 15.000000000000025, 16.000000000000025, 17.00000000000003, 18.00000000000003, 19.000000000000032, 20.000000000000032], \"y\": [0.12594955819139633, 0.020684794360386213, 0.0, 0.0, 0.0, 0.0, 0.0, 0.0, 0.0, 0.0, 0.0, 0.0, 0.0, 0.0, 0.0, 0.0, 0.0, 0.0, 0.0, 0.0, 0.0]}, {\"mode\": \"lines+markers\", \"name\": \"NDH2_h\", \"type\": \"scatter\", \"uid\": \"82c1de10-7ac4-4ab7-9a36-13ebd525b826\", \"x\": [0.0, 1.0000000000000016, 2.000000000000003, 3.0000000000000053, 4.000000000000006, 5.000000000000008, 6.000000000000011, 7.0000000000000115, 8.000000000000012, 9.000000000000014, 10.000000000000016, 11.000000000000018, 12.000000000000021, 13.000000000000021, 14.000000000000023, 15.000000000000025, 16.000000000000025, 17.00000000000003, 18.00000000000003, 19.000000000000032, 20.000000000000032], \"y\": [0.06297477909569817, 0.010342397180193107, 0.0, 0.0, 0.0, 0.0, 0.0, 0.0, 0.0, 0.0, 0.0, 0.0, 0.0, 0.0, 0.0, 0.0, 0.0, 0.0, 0.0, 0.0, 0.0]}],\n",
       "                        {\"title\": {\"text\": \"Cyclic Electron Flow\"}, \"width\": 500, \"xaxis\": {\"title\": {\"text\": \"CO2 Uptake [\\u00b5mol/s/m2]\"}}, \"yaxis\": {\"title\": {\"text\": \"Flux [\\u00b5mol/s/m2]\"}}},\n",
       "                        {\"plotlyServerURL\": \"https://plot.ly\", \"linkText\": \"Export to plot.ly\", \"showLink\": false}\n",
       "                    )\n",
       "                };\n",
       "                });\n",
       "            </script>\n",
       "        </div>"
      ]
     },
     "metadata": {},
     "output_type": "display_data"
    }
   ],
   "source": [
    "L_r = ['NDH1_h','NDH2_h']\n",
    "create_scatter_plot_rxn_c3(D_fba, L_r, 'Cyclic Electron Flow', xaxis_title, save_fig = save_fig)"
   ]
  }
 ],
 "metadata": {
  "anaconda-cloud": {},
  "kernelspec": {
   "display_name": "Python [default]",
   "language": "python",
   "name": "python2"
  },
  "language_info": {
   "codemirror_mode": {
    "name": "ipython",
    "version": 2
   },
   "file_extension": ".py",
   "mimetype": "text/x-python",
   "name": "python",
   "nbconvert_exporter": "python",
   "pygments_lexer": "ipython2",
   "version": "2.7.6"
  },
  "latex_envs": {
   "LaTeX_envs_menu_present": true,
   "autoclose": false,
   "autocomplete": true,
   "bibliofile": "biblio.bib",
   "cite_by": "apalike",
   "current_citInitial": 1,
   "eqLabelWithNumbers": true,
   "eqNumInitial": 1,
   "hotkeys": {
    "equation": "Ctrl-E",
    "itemize": "Ctrl-I"
   },
   "labels_anchors": false,
   "latex_user_defs": false,
   "report_style_numbering": false,
   "user_envs_cfg": false
  }
 },
 "nbformat": 4,
 "nbformat_minor": 2
}
