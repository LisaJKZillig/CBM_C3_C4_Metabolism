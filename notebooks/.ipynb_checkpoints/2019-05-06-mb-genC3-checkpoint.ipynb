{
 "cells": [
  {
   "cell_type": "markdown",
   "metadata": {
    "run_control": {
     "marked": true
    }
   },
   "source": [
    "# Input, output fluxes and flux of energy in C3 metabolism"
   ]
  },
  {
   "cell_type": "markdown",
   "metadata": {
    "run_control": {
     "marked": true
    }
   },
   "source": [
    "## 0. Initialization"
   ]
  },
  {
   "cell_type": "code",
   "execution_count": 1,
   "metadata": {
    "ExecuteTime": {
     "end_time": "2019-05-06T13:26:24.351664Z",
     "start_time": "2019-05-06T15:26:19.529082+02:00"
    },
    "code_folding": [],
    "collapsed": false,
    "run_control": {
     "marked": true
    }
   },
   "outputs": [
    {
     "name": "stderr",
     "output_type": "stream",
     "text": [
      "//anaconda/lib/python2.7/site-packages/cryptography/hazmat/primitives/constant_time.py:26 \u001b[1;31mCryptographyDeprecationWarning\u001b[0m: Support for your Python version is deprecated. The next version of cryptography will remove support. Please upgrade to a 2.7.x release that supports hmac.compare_digest as soon as possible.\n"
     ]
    },
    {
     "data": {
      "text/html": [
       "        <script type=\"text/javascript\">\n",
       "        window.PlotlyConfig = {MathJaxConfig: 'local'};\n",
       "        if (window.MathJax) {MathJax.Hub.Config({SVG: {font: \"STIX-Web\"}});}\n",
       "        if (typeof require !== 'undefined') {\n",
       "        require.undef(\"plotly\");\n",
       "        requirejs.config({\n",
       "            paths: {\n",
       "                'plotly': ['https://cdn.plot.ly/plotly-latest.min']\n",
       "            }\n",
       "        });\n",
       "        require(['plotly'], function(Plotly) {\n",
       "            window._Plotly = Plotly;\n",
       "        });\n",
       "        }\n",
       "        </script>\n",
       "        "
      ]
     },
     "metadata": {},
     "output_type": "display_data"
    },
    {
     "name": "stdout",
     "output_type": "stream",
     "text": [
      "load obo file ../src/go_basic.obo\n",
      "../src/go_basic.obo: fmt(1.2) rel(2017-10-20) 49,155 GO Terms\n"
     ]
    }
   ],
   "source": [
    "#Import sys\n",
    "import sys \n",
    "sys.path.append(\"../src/\") \n",
    "\n",
    "#Import init for initialisation & loading user-defined functions\n",
    "from init_fba import *\n",
    "\n",
    "#Initialize notebook settings\n",
    "theNotebook = '2019-05-06-mb-genC3'\n",
    "init_notebook(theNotebook)\n",
    "\n",
    "#load sbml model\n",
    "c3_model = load_sbml_model()\n",
    "\n",
    "#goatools\n",
    "from goatools import obo_parser\n",
    "goDB = obo_parser.GODag('../src/go_basic.obo')"
   ]
  },
  {
   "cell_type": "markdown",
   "metadata": {
    "ExecuteTime": {
     "end_time": "2017-06-07T15:40:14.346980",
     "start_time": "2017-06-07T15:40:14.344930"
    },
    "run_control": {
     "marked": true
    }
   },
   "source": [
    "### 0.1 Functions"
   ]
  },
  {
   "cell_type": "code",
   "execution_count": 2,
   "metadata": {
    "ExecuteTime": {
     "end_time": "2019-05-06T13:26:24.391039Z",
     "start_time": "2019-05-06T15:26:24.353105+02:00"
    },
    "code_folding": [],
    "collapsed": true
   },
   "outputs": [],
   "source": [
    "def proportion_E_consumption(L_m, name, save_fig = True):\n",
    "    D_E_Con_RXN = {}\n",
    "    L_r_E_Con = []\n",
    "\n",
    "\n",
    "    for m_id in L_m:\n",
    "        for r_obj in c3_model.metabolites.get_by_id(m_id).reactions:\n",
    "            r_id = r_obj.id\n",
    "            if not r_id[:2]  in ['Tr','Ex','Im'] :\n",
    "                flux = round(result_pfba_c3.fluxes[r_id] * r_obj.get_coefficient(m_id),5)\n",
    "                if flux < 0 :\n",
    "                    L_r_E_Con.append(r_id)\n",
    "                    D_E_Con_RXN[r_id] = abs(flux)\n",
    "\n",
    "    E_Con_Total = sum(D_E_Con_RXN.values())\n",
    "\n",
    "    D_E_Con_goTerm = {}\n",
    "    for r_id in D_E_Con_RXN:\n",
    "        r_obj = c3_model.reactions.get_by_id(r_id)\n",
    "        L_goId = r_obj.annotation['go']\n",
    "        if not isinstance(L_goId, list):\n",
    "            L_goId = [L_goId]\n",
    "        L_goTerm = [goDB[goId].name for goId in L_goId]\n",
    "        if not L_goTerm[0] in D_E_Con_goTerm:\n",
    "            D_E_Con_goTerm[L_goTerm[0]] = 0\n",
    "        D_E_Con_goTerm[L_goTerm[0]] += D_E_Con_RXN[r_id]\n",
    "\n",
    "\n",
    "    D_E_Con_goTerm = {goTerm: flux for goTerm, flux in D_E_Con_goTerm.items() if flux/E_Con_Total > 0.01}\n",
    "    D_E_Con_goTerm['Others'] = E_Con_Total - sum(D_E_Con_goTerm.values())\n",
    "\n",
    "    trace = go.Pie(\n",
    "        labels = D_E_Con_goTerm.keys(),\n",
    "        values = D_E_Con_goTerm.values(),\n",
    "        textfont=dict(size=18,family='Arial',),\n",
    "        marker=dict(colors=[D_goTerm_col[goTerm] for goTerm in D_E_Con_goTerm],\n",
    "                    line=dict(color='#FFF', width=1)),\n",
    "    )\n",
    "\n",
    "    data = [trace]\n",
    "\n",
    "    layout = go.Layout(\n",
    "                height=600, \n",
    "                width=750,\n",
    "                title='Proportion of %s Consumption' %name\n",
    "        )\n",
    "\n",
    "    fig = go.Figure(data=data, layout=layout)\n",
    "    \n",
    "    if save_fig:\n",
    "        iplot(fig,filename='%s_consumption' %name, image='svg',image_height=500,image_width=750)\n",
    "        sleep(5)\n",
    "    else:\n",
    "        iplot(fig)\n",
    "    return E_Con_Total"
   ]
  },
  {
   "cell_type": "code",
   "execution_count": 3,
   "metadata": {
    "ExecuteTime": {
     "end_time": "2019-05-06T13:26:24.424818Z",
     "start_time": "2019-05-06T15:26:24.392889+02:00"
    },
    "code_folding": [],
    "collapsed": true
   },
   "outputs": [],
   "source": [
    "def proportion_E_production(L_m, name, savefig = True):\n",
    "\n",
    "\n",
    "    D_E_Pro_RXN = {}\n",
    "    L_r_E_Pro = []\n",
    "\n",
    "\n",
    "    for m_id in L_m:\n",
    "        for r_obj in c3_model.metabolites.get_by_id(m_id).reactions:\n",
    "            r_id = r_obj.id\n",
    "            if not r_id[:2]  in ['Tr','Ex','Im'] :\n",
    "                flux = round(result_pfba_c3.fluxes[r_id] * r_obj.get_coefficient(m_id),5)\n",
    "                if flux > 0 :\n",
    "                    L_r_E_Pro.append(r_id)\n",
    "                    D_E_Pro_RXN[r_id] = abs(flux)\n",
    "\n",
    "    E_Pro_Total = sum(D_E_Pro_RXN.values())\n",
    "\n",
    "    D_E_Pro_goTerm = {}\n",
    "    for r_id in D_E_Pro_RXN:\n",
    "        r_obj = c3_model.reactions.get_by_id(r_id)\n",
    "        L_goId = r_obj.annotation['go']\n",
    "        if not isinstance(L_goId, list):\n",
    "            L_goId = [L_goId]\n",
    "        L_goTerm = [goDB[goId].name for goId in L_goId]\n",
    "        if not L_goTerm[0] in D_E_Pro_goTerm:\n",
    "            D_E_Pro_goTerm[L_goTerm[0]] = 0\n",
    "        D_E_Pro_goTerm[L_goTerm[0]] += D_E_Pro_RXN[r_id]\n",
    "\n",
    "\n",
    "    D_E_Pro_goTerm = {goTerm: flux for goTerm, flux in D_E_Pro_goTerm.items() if flux/E_Pro_Total > 0.01}\n",
    "    D_E_Pro_goTerm['Others'] = E_Pro_Total - sum(D_E_Pro_goTerm.values())\n",
    "\n",
    "    trace = go.Pie(\n",
    "        labels = D_E_Pro_goTerm.keys(),\n",
    "        values = D_E_Pro_goTerm.values(),\n",
    "        textfont=dict(size=18,family='Arial',),\n",
    "        marker=dict(colors=[D_goTerm_col[goTerm] for goTerm in D_E_Pro_goTerm],\n",
    "                    line=dict(color='#FFF', width=1)),\n",
    "    )\n",
    "\n",
    "\n",
    "\n",
    "    data = [trace]\n",
    "\n",
    "    layout = go.Layout(\n",
    "                height=600, \n",
    "                width=750,\n",
    "                title='Proportion of %s Production' %name\n",
    "        )\n",
    "\n",
    "    fig = go.Figure(data=data, layout=layout)\n",
    "    \n",
    "    if save_fig:\n",
    "        iplot(fig,filename='%s_Production' %name,image='svg',image_height=500,image_width=750)\n",
    "        sleep(5)\n",
    "    else:\n",
    "        iplot(fig)\n",
    "    return E_Pro_Total"
   ]
  },
  {
   "cell_type": "markdown",
   "metadata": {
    "run_control": {
     "marked": true
    }
   },
   "source": [
    "## 1. C3 Model"
   ]
  },
  {
   "cell_type": "markdown",
   "metadata": {
    "ExecuteTime": {
     "end_time": "2017-06-20T12:42:07.597174",
     "start_time": "2017-06-20T12:42:07.594879"
    },
    "run_control": {
     "marked": true
    }
   },
   "source": [
    "### 1.1 Constraints"
   ]
  },
  {
   "cell_type": "code",
   "execution_count": 4,
   "metadata": {
    "ExecuteTime": {
     "end_time": "2019-05-06T13:26:24.445852Z",
     "start_time": "2019-05-06T15:26:24.426288+02:00"
    },
    "collapsed": false,
    "run_control": {
     "marked": true
    }
   },
   "outputs": [],
   "source": [
    "#CONSTRAINT: Set flux of all export reaction to zero\n",
    "for r_obj in c3_model.reactions:\n",
    "    r_id = r_obj.id\n",
    "    if r_id[0:2] == \"Ex\":\n",
    "        r_obj.bounds = (0.,0.)\n",
    "\n",
    "#CONSTRAINT: Divergent fluxes of export and import reactions\n",
    "set_bounds('Im_CO2', (-inf, inf), c3_model)\n",
    "set_bounds('Im_H2O', (-inf, inf), c3_model)\n",
    "set_bounds('Im_H2S', (0.,0.), c3_model)\n",
    "set_bounds('Im_NH4', (0., 0.), c3_model)\n",
    "set_bounds('Im_NO3', (0., inf), c3_model)\n",
    "set_bounds('Im_Pi', (0., inf), c3_model)\n",
    "set_bounds('Im_SO4', (0., inf), c3_model)\n",
    "set_bounds('Ex_O2', (-inf, inf), c3_model)\n",
    "set_bounds('Ex_Suc', (0., inf), c3_model)\n",
    "set_bounds('Ex_starch', (0., inf), c3_model)\n",
    "set_bounds('Ex_AA', (0., inf), c3_model)\n",
    "\n",
    "#CONSTRAINT: ???\n",
    "set_bounds('G6PDH_h', (0.,0.), c3_model)\n",
    "set_bounds('PPIF6PK_c', (0,0.), c3_model)\n",
    "\n",
    "#CONSTRAINT: max. photon consumption 1000 μE\n",
    "set_bounds('Im_hnu', (0, 1000), c3_model)\n",
    "\n",
    "#CONSTRAINT: CO2 uptake rate in C3 plants is about 20 μmol/(m2*s)\n",
    "f_CO2 = 20 #[μmol/(m2*s)] \n",
    "set_bounds('Im_CO2', (0, f_CO2), c3_model)"
   ]
  },
  {
   "cell_type": "code",
   "execution_count": 5,
   "metadata": {
    "ExecuteTime": {
     "end_time": "2019-05-06T13:26:24.451622Z",
     "start_time": "2019-05-06T15:26:24.447493+02:00"
    },
    "code_folding": [],
    "collapsed": false,
    "run_control": {
     "marked": true
    }
   },
   "outputs": [],
   "source": [
    "#CONSTRAINT: Maintenace cost\n",
    "\n",
    "atp_cost_L3_m = 0.009111187245501572 #Mitochondria-L3-ATP Cost [µmol*s-1*m-2]\n",
    "atp_cost_L3_h = 0.15270708327974447 #Chloroplast-L3-ATP Cost [µmol*s-1*m-2]\n",
    "atp_cost_L3_p = 0.0076669066992201855 #Peroxisome-L3-ATP Cost [µmol*s-1*m-2]\n",
    "atp_cost_L3_c = 0.042683072918274702 #Cytosl/Other-L3-ATP Cost [µmol*s-1*m-2]\n",
    "\n",
    "set_fixed_flux('NGAM_c',atp_cost_L3_c + atp_cost_L3_p, c3_model)\n",
    "set_fixed_flux('NGAM_m',atp_cost_L3_m, c3_model)\n",
    "set_fixed_flux('NGAM_h',atp_cost_L3_h, c3_model)"
   ]
  },
  {
   "cell_type": "code",
   "execution_count": 6,
   "metadata": {
    "ExecuteTime": {
     "end_time": "2019-05-06T13:26:24.464853Z",
     "start_time": "2019-05-06T15:26:24.453336+02:00"
    },
    "collapsed": false
   },
   "outputs": [
    {
     "data": {
      "text/plain": [
       "<optlang.glpk_interface.Constraint at 0x10673f850>"
      ]
     },
     "execution_count": 6,
     "metadata": {},
     "output_type": "execute_result"
    }
   ],
   "source": [
    "#CONSTRAINT: Output of sucrose : total amino acid and sucrose : starch\n",
    "set_fixed_flux_ratio({'Ex_Suc':2.2,'Ex_AA':1.0}, c3_model)\n",
    "set_fixed_flux_ratio({'Ex_Suc':1.0,'Ex_starch':1.0}, c3_model)"
   ]
  },
  {
   "cell_type": "code",
   "execution_count": 7,
   "metadata": {
    "ExecuteTime": {
     "end_time": "2019-05-06T13:26:24.473535Z",
     "start_time": "2019-05-06T15:26:24.466448+02:00"
    },
    "collapsed": false
   },
   "outputs": [
    {
     "data": {
      "text/plain": [
       "<optlang.glpk_interface.Constraint at 0x11ce11c10>"
      ]
     },
     "execution_count": 7,
     "metadata": {},
     "output_type": "execute_result"
    }
   ],
   "source": [
    "#CONSTRAINT: oxygenation : decarboxylation = 1 : 10\n",
    "set_fixed_flux_ratio({'RBC_h':10,'RBO_h':1}, c3_model)"
   ]
  },
  {
   "cell_type": "code",
   "execution_count": 8,
   "metadata": {
    "ExecuteTime": {
     "end_time": "2019-05-06T13:26:24.478567Z",
     "start_time": "2019-05-06T15:26:24.475117+02:00"
    },
    "collapsed": false,
    "run_control": {
     "marked": true
    }
   },
   "outputs": [],
   "source": [
    "#CONSTRAINT: fluxes through the chloroplastic NADPH dehydrogenase and plastoquinol oxidase were set to zero \n",
    "#because the contributions of NADPH dehydrogenase (Yamamoto et al., 2011) and plastoquinol oxidase \n",
    "#(Josse et al., 2000) to photosynthesis are thought to be minor.\n",
    "set_bounds('AOX4_h',(0,0), c3_model)\n",
    "set_bounds('iCitDHNADP_h',(0,0), c3_model)"
   ]
  },
  {
   "cell_type": "code",
   "execution_count": 9,
   "metadata": {
    "ExecuteTime": {
     "end_time": "2019-05-06T13:26:24.482938Z",
     "start_time": "2019-05-06T15:26:24.480414+02:00"
    },
    "collapsed": true
   },
   "outputs": [],
   "source": [
    "#CONSTRAINT: NTT is only active at night\n",
    "set_fixed_flux('Tr_NTT',0, c3_model)"
   ]
  },
  {
   "cell_type": "code",
   "execution_count": 10,
   "metadata": {
    "ExecuteTime": {
     "end_time": "2019-05-06T13:26:24.487213Z",
     "start_time": "2019-05-06T15:26:24.484384+02:00"
    },
    "collapsed": true
   },
   "outputs": [],
   "source": [
    "#CONSTRAINT: No uncoupled pyruvate transport\n",
    "set_bounds('Tr_Pyr1',(0,0), c3_model)\n",
    "set_bounds('Tr_Pyr2',(0,0), c3_model)"
   ]
  },
  {
   "cell_type": "markdown",
   "metadata": {
    "run_control": {
     "marked": true
    }
   },
   "source": [
    "## 2. FBA"
   ]
  },
  {
   "cell_type": "code",
   "execution_count": 11,
   "metadata": {
    "ExecuteTime": {
     "end_time": "2019-05-06T13:26:24.695273Z",
     "start_time": "2019-05-06T15:26:24.488967+02:00"
    },
    "collapsed": false,
    "run_control": {
     "marked": true
    }
   },
   "outputs": [],
   "source": [
    "#Set FBA solver\n",
    "c3_model.solver = \"glpk\"\n",
    "\n",
    "#Optimize/Maximize sucrose output\n",
    "Ex_Suc = c3_model.reactions.get_by_id(\"Ex_Suc\")\n",
    "Ex_Suc.objective_coefficient = 1.\n",
    "result_fba_c3 = c3_model.optimize('maximize') #perform FBA\n",
    "\n",
    "\n",
    "#Optimize/Minimize total flux\n",
    "if result_fba_c3.status == 'optimal': # check if feasible\n",
    "    result_pfba_c3 = cobra.flux_analysis.parsimonious.pfba(c3_model) #perform pFBA"
   ]
  },
  {
   "cell_type": "markdown",
   "metadata": {
    "ExecuteTime": {
     "end_time": "2018-02-06T17:54:23.611334+01:00",
     "start_time": "2018-02-06T17:54:23.609194"
    },
    "run_control": {
     "marked": true
    }
   },
   "source": [
    "## 4 Figures"
   ]
  },
  {
   "cell_type": "code",
   "execution_count": 12,
   "metadata": {
    "ExecuteTime": {
     "end_time": "2019-05-06T13:26:24.698928Z",
     "start_time": "2019-05-06T15:26:24.696769+02:00"
    },
    "collapsed": true
   },
   "outputs": [],
   "source": [
    "save_fig = False"
   ]
  },
  {
   "cell_type": "code",
   "execution_count": 13,
   "metadata": {
    "ExecuteTime": {
     "end_time": "2019-05-06T13:26:24.710045Z",
     "start_time": "2019-05-06T15:26:24.700802+02:00"
    },
    "collapsed": true
   },
   "outputs": [],
   "source": [
    "#Map GO terms to reactions consuming or producing ATP, NADH, NADPH in all compartments\n",
    "\n",
    "L_m = ['ATP_c', 'ATP_h', 'ATP_m', 'NADH_c', 'NADH_p', 'NADH_m', 'NADH_h', 'NADPH_c', 'NADPH_m', 'NADPH_h']\n",
    "\n",
    "L_goTerm = []\n",
    "\n",
    "for m_id in L_m:\n",
    "    for r_obj in c3_model.metabolites.get_by_id(m_id).reactions:\n",
    "        r_id = r_obj.id\n",
    "        if not r_id[:2]  in ['Tr','Ex','Im'] :\n",
    "            L_goId_r = r_obj.annotation['go']\n",
    "            if not isinstance(L_goId_r, list):\n",
    "                L_goId_r = [L_goId_r]\n",
    "            L_goTerm_r = [goDB[goId].name for goId in L_goId_r]\n",
    "            L_goTerm += L_goTerm_r\n",
    "\n",
    "L_goTerm = list(set(L_goTerm))\n",
    "L_col = ['hsl('+str(h)+',50%'+',50%)' for h in np.linspace(0, 360, len(L_goTerm)+1)]\n",
    "D_goTerm_col = {L_goTerm[n]: col for n, col in enumerate(L_col) if n < len(L_goTerm)}\n",
    "D_goTerm_col['Others'] = L_col[-1]"
   ]
  },
  {
   "cell_type": "code",
   "execution_count": 14,
   "metadata": {
    "ExecuteTime": {
     "end_time": "2019-05-06T13:26:25.043015Z",
     "start_time": "2019-05-06T15:26:24.711589+02:00"
    },
    "collapsed": false
   },
   "outputs": [
    {
     "data": {
      "application/vnd.plotly.v1+json": {
       "config": {
        "linkText": "Export to plot.ly",
        "plotlyServerURL": "https://plot.ly",
        "showLink": false
       },
       "data": [
        {
         "labels": [
          "photosynthesis, light reaction",
          "oxidative phosphorylation",
          "canonical glycolysis",
          "Others"
         ],
         "marker": {
          "colors": [
           "hsl(122.553191489,50%,50%)",
           "hsl(153.191489362,50%,50%)",
           "hsl(298.723404255,50%,50%)",
           "hsl(360.0,50%,50%)"
          ],
          "line": {
           "color": "#FFF",
           "width": 1
          }
         },
         "textfont": {
          "family": "Arial",
          "size": 18
         },
         "type": "pie",
         "uid": "09df1ae6-edbd-4d49-9d55-e0fb76d674df",
         "values": [
          72.6417,
          0.75527,
          1.2955699999999999,
          0.05081000000001268
         ]
        }
       ],
       "layout": {
        "height": 600,
        "title": {
         "text": "Proportion of ATP Production"
        },
        "width": 750
       }
      },
      "text/html": [
       "<div>\n",
       "        \n",
       "        \n",
       "            <div id=\"21999516-8dce-41ac-a992-a9aadf9638c9\" class=\"plotly-graph-div\"></div>\n",
       "            <script type=\"text/javascript\">\n",
       "                require([\"plotly\"], function(Plotly) {\n",
       "                    window.PLOTLYENV=window.PLOTLYENV || {};\n",
       "                    window.PLOTLYENV.BASE_URL='https://plot.ly';\n",
       "                    \n",
       "                if (document.getElementById(\"21999516-8dce-41ac-a992-a9aadf9638c9\")) {\n",
       "                    Plotly.newPlot(\n",
       "                        '21999516-8dce-41ac-a992-a9aadf9638c9',\n",
       "                        [{\"labels\": [\"photosynthesis, light reaction\", \"oxidative phosphorylation\", \"canonical glycolysis\", \"Others\"], \"marker\": {\"colors\": [\"hsl(122.553191489,50%,50%)\", \"hsl(153.191489362,50%,50%)\", \"hsl(298.723404255,50%,50%)\", \"hsl(360.0,50%,50%)\"], \"line\": {\"color\": \"#FFF\", \"width\": 1}}, \"textfont\": {\"family\": \"Arial\", \"size\": 18}, \"type\": \"pie\", \"uid\": \"5c1d58a2-c9ce-43bf-ba28-cf8a63fd791e\", \"values\": [72.6417, 0.75527, 1.2955699999999999, 0.05081000000001268]}],\n",
       "                        {\"height\": 600, \"title\": {\"text\": \"Proportion of ATP Production\"}, \"width\": 750},\n",
       "                        {\"plotlyServerURL\": \"https://plot.ly\", \"linkText\": \"Export to plot.ly\", \"showLink\": false}\n",
       "                    )\n",
       "                };\n",
       "                });\n",
       "            </script>\n",
       "        </div>"
      ]
     },
     "metadata": {},
     "output_type": "display_data"
    },
    {
     "data": {
      "application/vnd.plotly.v1+json": {
       "config": {
        "linkText": "Export to plot.ly",
        "plotlyServerURL": "https://plot.ly",
        "showLink": false
       },
       "data": [
        {
         "labels": [
          "Others",
          "photorespiration",
          "nucleotide metabolic process",
          "starch biosynthetic process",
          "reductive pentose-phosphate cycle"
         ],
         "marker": {
          "colors": [
           "hsl(360.0,50%,50%)",
           "hsl(7.65957446809,50%,50%)",
           "hsl(306.382978723,50%,50%)",
           "hsl(107.234042553,50%,50%)",
           "hsl(275.744680851,50%,50%)"
          ],
          "line": {
           "color": "#FFF",
           "width": 1
          }
         },
         "textfont": {
          "family": "Arial",
          "size": 18
         },
         "type": "pie",
         "uid": "b8d435cd-f107-4db6-8bb9-365c918b9f00",
         "values": [
          1.047690000000003,
          1.02446,
          0.77355,
          1.53436,
          69.30005
         ]
        }
       ],
       "layout": {
        "height": 600,
        "title": {
         "text": "Proportion of ATP Consumption"
        },
        "width": 750
       }
      },
      "text/html": [
       "<div>\n",
       "        \n",
       "        \n",
       "            <div id=\"8a0921e7-6e8b-40e6-af62-735864f46f13\" class=\"plotly-graph-div\"></div>\n",
       "            <script type=\"text/javascript\">\n",
       "                require([\"plotly\"], function(Plotly) {\n",
       "                    window.PLOTLYENV=window.PLOTLYENV || {};\n",
       "                    window.PLOTLYENV.BASE_URL='https://plot.ly';\n",
       "                    \n",
       "                if (document.getElementById(\"8a0921e7-6e8b-40e6-af62-735864f46f13\")) {\n",
       "                    Plotly.newPlot(\n",
       "                        '8a0921e7-6e8b-40e6-af62-735864f46f13',\n",
       "                        [{\"labels\": [\"Others\", \"photorespiration\", \"nucleotide metabolic process\", \"starch biosynthetic process\", \"reductive pentose-phosphate cycle\"], \"marker\": {\"colors\": [\"hsl(360.0,50%,50%)\", \"hsl(7.65957446809,50%,50%)\", \"hsl(306.382978723,50%,50%)\", \"hsl(107.234042553,50%,50%)\", \"hsl(275.744680851,50%,50%)\"], \"line\": {\"color\": \"#FFF\", \"width\": 1}}, \"textfont\": {\"family\": \"Arial\", \"size\": 18}, \"type\": \"pie\", \"uid\": \"364fd801-7a6c-48a6-baab-ef5364290689\", \"values\": [1.047690000000003, 1.02446, 0.77355, 1.53436, 69.30005]}],\n",
       "                        {\"height\": 600, \"title\": {\"text\": \"Proportion of ATP Consumption\"}, \"width\": 750},\n",
       "                        {\"plotlyServerURL\": \"https://plot.ly\", \"linkText\": \"Export to plot.ly\", \"showLink\": false}\n",
       "                    )\n",
       "                };\n",
       "                });\n",
       "            </script>\n",
       "        </div>"
      ]
     },
     "metadata": {},
     "output_type": "display_data"
    }
   ],
   "source": [
    "#Proportion of subsystems in ATP production and consumption\n",
    "L_m = ['ATP_c', 'ATP_h', 'ATP_m']\n",
    "ATP_Pro = proportion_E_production(L_m, 'ATP', save_fig)\n",
    "ATP_Con = proportion_E_consumption(L_m, 'ATP', save_fig)"
   ]
  },
  {
   "cell_type": "code",
   "execution_count": 15,
   "metadata": {
    "ExecuteTime": {
     "end_time": "2019-05-06T13:26:25.323840Z",
     "start_time": "2019-05-06T15:26:25.044705+02:00"
    },
    "collapsed": false
   },
   "outputs": [
    {
     "data": {
      "application/vnd.plotly.v1+json": {
       "config": {
        "linkText": "Export to plot.ly",
        "plotlyServerURL": "https://plot.ly",
        "showLink": false
       },
       "data": [
        {
         "labels": [
          "nitrate assimilation",
          "photosynthesis, light reaction",
          "Others"
         ],
         "marker": {
          "colors": [
           "hsl(84.2553191489,50%,50%)",
           "hsl(122.553191489,50%,50%)",
           "hsl(360.0,50%,50%)"
          ],
          "line": {
           "color": "#FFF",
           "width": 1
          }
         },
         "textfont": {
          "family": "Arial",
          "size": 18
         },
         "type": "pie",
         "uid": "a0a4b608-a2b7-41f5-95cb-88bdadc3dc6b",
         "values": [
          0.49953,
          46.31579,
          0.16320000000000334
         ]
        }
       ],
       "layout": {
        "height": 600,
        "title": {
         "text": "Proportion of NADPH Production"
        },
        "width": 750
       }
      },
      "text/html": [
       "<div>\n",
       "        \n",
       "        \n",
       "            <div id=\"3a75abcd-ab91-4d15-8e9e-65e86ca13123\" class=\"plotly-graph-div\"></div>\n",
       "            <script type=\"text/javascript\">\n",
       "                require([\"plotly\"], function(Plotly) {\n",
       "                    window.PLOTLYENV=window.PLOTLYENV || {};\n",
       "                    window.PLOTLYENV.BASE_URL='https://plot.ly';\n",
       "                    \n",
       "                if (document.getElementById(\"3a75abcd-ab91-4d15-8e9e-65e86ca13123\")) {\n",
       "                    Plotly.newPlot(\n",
       "                        '3a75abcd-ab91-4d15-8e9e-65e86ca13123',\n",
       "                        [{\"labels\": [\"nitrate assimilation\", \"photosynthesis, light reaction\", \"Others\"], \"marker\": {\"colors\": [\"hsl(84.2553191489,50%,50%)\", \"hsl(122.553191489,50%,50%)\", \"hsl(360.0,50%,50%)\"], \"line\": {\"color\": \"#FFF\", \"width\": 1}}, \"textfont\": {\"family\": \"Arial\", \"size\": 18}, \"type\": \"pie\", \"uid\": \"d4141968-273e-4f2d-bfe9-a9ca285b3878\", \"values\": [0.49953, 46.31579, 0.16320000000000334]}],\n",
       "                        {\"height\": 600, \"title\": {\"text\": \"Proportion of NADPH Production\"}, \"width\": 750},\n",
       "                        {\"plotlyServerURL\": \"https://plot.ly\", \"linkText\": \"Export to plot.ly\", \"showLink\": false}\n",
       "                    )\n",
       "                };\n",
       "                });\n",
       "            </script>\n",
       "        </div>"
      ]
     },
     "metadata": {},
     "output_type": "display_data"
    },
    {
     "data": {
      "application/vnd.plotly.v1+json": {
       "config": {
        "linkText": "Export to plot.ly",
        "plotlyServerURL": "https://plot.ly",
        "showLink": false
       },
       "data": [
        {
         "labels": [
          "glutamate biosynthetic process",
          "Others",
          "reductive pentose-phosphate cycle"
         ],
         "marker": {
          "colors": [
           "hsl(191.489361702,50%,50%)",
           "hsl(360.0,50%,50%)",
           "hsl(275.744680851,50%,50%)"
          ],
          "line": {
           "color": "#FFF",
           "width": 1
          }
         },
         "textfont": {
          "family": "Arial",
          "size": 18
         },
         "type": "pie",
         "uid": "fcc5bfd2-1d60-41f8-9ace-5d3d77da3a6c",
         "values": [
          0.66063,
          0.27708999999999406,
          46.04081
         ]
        }
       ],
       "layout": {
        "height": 600,
        "title": {
         "text": "Proportion of NADPH Consumption"
        },
        "width": 750
       }
      },
      "text/html": [
       "<div>\n",
       "        \n",
       "        \n",
       "            <div id=\"43e8e275-77f8-4a88-acf0-05d0ea6e46bd\" class=\"plotly-graph-div\"></div>\n",
       "            <script type=\"text/javascript\">\n",
       "                require([\"plotly\"], function(Plotly) {\n",
       "                    window.PLOTLYENV=window.PLOTLYENV || {};\n",
       "                    window.PLOTLYENV.BASE_URL='https://plot.ly';\n",
       "                    \n",
       "                if (document.getElementById(\"43e8e275-77f8-4a88-acf0-05d0ea6e46bd\")) {\n",
       "                    Plotly.newPlot(\n",
       "                        '43e8e275-77f8-4a88-acf0-05d0ea6e46bd',\n",
       "                        [{\"labels\": [\"glutamate biosynthetic process\", \"Others\", \"reductive pentose-phosphate cycle\"], \"marker\": {\"colors\": [\"hsl(191.489361702,50%,50%)\", \"hsl(360.0,50%,50%)\", \"hsl(275.744680851,50%,50%)\"], \"line\": {\"color\": \"#FFF\", \"width\": 1}}, \"textfont\": {\"family\": \"Arial\", \"size\": 18}, \"type\": \"pie\", \"uid\": \"b7751944-6ca5-4c95-9c2e-48bc297bf2d2\", \"values\": [0.66063, 0.27708999999999406, 46.04081]}],\n",
       "                        {\"height\": 600, \"title\": {\"text\": \"Proportion of NADPH Consumption\"}, \"width\": 750},\n",
       "                        {\"plotlyServerURL\": \"https://plot.ly\", \"linkText\": \"Export to plot.ly\", \"showLink\": false}\n",
       "                    )\n",
       "                };\n",
       "                });\n",
       "            </script>\n",
       "        </div>"
      ]
     },
     "metadata": {},
     "output_type": "display_data"
    }
   ],
   "source": [
    "#Proportion of subsystems in NADPH production and consumption\n",
    "L_m = ['NADPH_c', 'NADPH_h', 'NADPH_m']\n",
    "NADPH_Pro = proportion_E_production(L_m, 'NADPH', save_fig)\n",
    "NADPH_Con = proportion_E_consumption(L_m, 'NADPH', save_fig)"
   ]
  },
  {
   "cell_type": "code",
   "execution_count": 16,
   "metadata": {
    "ExecuteTime": {
     "end_time": "2019-05-06T13:26:25.751146Z",
     "start_time": "2019-05-06T15:26:25.325325+02:00"
    },
    "collapsed": false
   },
   "outputs": [
    {
     "data": {
      "application/vnd.plotly.v1+json": {
       "config": {
        "linkText": "Export to plot.ly",
        "plotlyServerURL": "https://plot.ly",
        "showLink": false
       },
       "data": [
        {
         "labels": [
          "photorespiration",
          "gluconeogenesis",
          "pyruvate dehydrogenase activity",
          "canonical glycolysis",
          "Others"
         ],
         "marker": {
          "colors": [
           "hsl(7.65957446809,50%,50%)",
           "hsl(199.14893617,50%,50%)",
           "hsl(291.063829787,50%,50%)",
           "hsl(298.723404255,50%,50%)",
           "hsl(360.0,50%,50%)"
          ],
          "line": {
           "color": "#FFF",
           "width": 1
          }
         },
         "textfont": {
          "family": "Arial",
          "size": 18
         },
         "type": "pie",
         "uid": "1714a3b0-90dd-4488-aa7e-65fc90aadbd4",
         "values": [
          1.05933,
          0.92873,
          0.16111,
          1.12146,
          0.011139999999999706
         ]
        }
       ],
       "layout": {
        "height": 600,
        "title": {
         "text": "Proportion of NADH Production"
        },
        "width": 750
       }
      },
      "text/html": [
       "<div>\n",
       "        \n",
       "        \n",
       "            <div id=\"4134dc1f-0e23-4bd7-a822-ec4e6a97045b\" class=\"plotly-graph-div\"></div>\n",
       "            <script type=\"text/javascript\">\n",
       "                require([\"plotly\"], function(Plotly) {\n",
       "                    window.PLOTLYENV=window.PLOTLYENV || {};\n",
       "                    window.PLOTLYENV.BASE_URL='https://plot.ly';\n",
       "                    \n",
       "                if (document.getElementById(\"4134dc1f-0e23-4bd7-a822-ec4e6a97045b\")) {\n",
       "                    Plotly.newPlot(\n",
       "                        '4134dc1f-0e23-4bd7-a822-ec4e6a97045b',\n",
       "                        [{\"labels\": [\"photorespiration\", \"gluconeogenesis\", \"pyruvate dehydrogenase activity\", \"canonical glycolysis\", \"Others\"], \"marker\": {\"colors\": [\"hsl(7.65957446809,50%,50%)\", \"hsl(199.14893617,50%,50%)\", \"hsl(291.063829787,50%,50%)\", \"hsl(298.723404255,50%,50%)\", \"hsl(360.0,50%,50%)\"], \"line\": {\"color\": \"#FFF\", \"width\": 1}}, \"textfont\": {\"family\": \"Arial\", \"size\": 18}, \"type\": \"pie\", \"uid\": \"cf129df3-8636-4cc0-b817-3c7f6c234275\", \"values\": [1.05933, 0.92873, 0.16111, 1.12146, 0.011139999999999706]}],\n",
       "                        {\"height\": 600, \"title\": {\"text\": \"Proportion of NADH Production\"}, \"width\": 750},\n",
       "                        {\"plotlyServerURL\": \"https://plot.ly\", \"linkText\": \"Export to plot.ly\", \"showLink\": false}\n",
       "                    )\n",
       "                };\n",
       "                });\n",
       "            </script>\n",
       "        </div>"
      ]
     },
     "metadata": {},
     "output_type": "display_data"
    },
    {
     "data": {
      "application/vnd.plotly.v1+json": {
       "config": {
        "linkText": "Export to plot.ly",
        "plotlyServerURL": "https://plot.ly",
        "showLink": false
       },
       "data": [
        {
         "labels": [
          "nitrate assimilation",
          "alternative respiration",
          "glutamate biosynthetic process",
          "glyoxylate cycle",
          "Others"
         ],
         "marker": {
          "colors": [
           "hsl(84.2553191489,50%,50%)",
           "hsl(245.106382979,50%,50%)",
           "hsl(191.489361702,50%,50%)",
           "hsl(206.808510638,50%,50%)",
           "hsl(360.0,50%,50%)"
          ],
          "line": {
           "color": "#FFF",
           "width": 1
          }
         },
         "textfont": {
          "family": "Arial",
          "size": 18
         },
         "type": "pie",
         "uid": "0f5fe364-610d-430f-8a4f-cb6c7ad3deae",
         "values": [
          1.02748,
          0.22658,
          0.2477,
          0.74616,
          0.009410000000000363
         ]
        }
       ],
       "layout": {
        "height": 600,
        "title": {
         "text": "Proportion of NADH Consumption"
        },
        "width": 750
       }
      },
      "text/html": [
       "<div>\n",
       "        \n",
       "        \n",
       "            <div id=\"8afdef33-2383-4c3f-b57d-7e63bd495744\" class=\"plotly-graph-div\"></div>\n",
       "            <script type=\"text/javascript\">\n",
       "                require([\"plotly\"], function(Plotly) {\n",
       "                    window.PLOTLYENV=window.PLOTLYENV || {};\n",
       "                    window.PLOTLYENV.BASE_URL='https://plot.ly';\n",
       "                    \n",
       "                if (document.getElementById(\"8afdef33-2383-4c3f-b57d-7e63bd495744\")) {\n",
       "                    Plotly.newPlot(\n",
       "                        '8afdef33-2383-4c3f-b57d-7e63bd495744',\n",
       "                        [{\"labels\": [\"nitrate assimilation\", \"alternative respiration\", \"glutamate biosynthetic process\", \"glyoxylate cycle\", \"Others\"], \"marker\": {\"colors\": [\"hsl(84.2553191489,50%,50%)\", \"hsl(245.106382979,50%,50%)\", \"hsl(191.489361702,50%,50%)\", \"hsl(206.808510638,50%,50%)\", \"hsl(360.0,50%,50%)\"], \"line\": {\"color\": \"#FFF\", \"width\": 1}}, \"textfont\": {\"family\": \"Arial\", \"size\": 18}, \"type\": \"pie\", \"uid\": \"7d0e1a7f-af8c-423f-be17-cdcd6d66be1e\", \"values\": [1.02748, 0.22658, 0.2477, 0.74616, 0.009410000000000363]}],\n",
       "                        {\"height\": 600, \"title\": {\"text\": \"Proportion of NADH Consumption\"}, \"width\": 750},\n",
       "                        {\"plotlyServerURL\": \"https://plot.ly\", \"linkText\": \"Export to plot.ly\", \"showLink\": false}\n",
       "                    )\n",
       "                };\n",
       "                });\n",
       "            </script>\n",
       "        </div>"
      ]
     },
     "metadata": {},
     "output_type": "display_data"
    }
   ],
   "source": [
    "#Proportion of subsystems in NADH production and consumption\n",
    "L_m = ['NADH_c', 'NADH_h', 'NADH_m']\n",
    "NADH_Pro = proportion_E_production(L_m, 'NADH', save_fig)\n",
    "NADH_Con = proportion_E_consumption(L_m, 'NADH', save_fig)"
   ]
  },
  {
   "cell_type": "code",
   "execution_count": 17,
   "metadata": {
    "ExecuteTime": {
     "end_time": "2019-05-06T13:26:25.896151Z",
     "start_time": "2019-05-06T15:26:25.752504+02:00"
    },
    "collapsed": false
   },
   "outputs": [
    {
     "data": {
      "application/vnd.plotly.v1+json": {
       "config": {
        "linkText": "Export to plot.ly",
        "plotlyServerURL": "https://plot.ly",
        "showLink": false
       },
       "data": [
        {
         "labels": [
          "ATP",
          "NADPH",
          "NADH"
         ],
         "marker": {
          "line": {
           "color": "#FFF",
           "width": 1
          }
         },
         "textfont": {
          "family": "Arial",
          "size": 18
         },
         "type": "pie",
         "uid": "401c67bf-24d5-4020-a178-7e201eb7a921",
         "values": [
          74.74335,
          46.97852,
          3.28177
         ]
        }
       ],
       "layout": {
        "height": 500,
        "title": {
         "text": "Proportion of Energy Equivalents"
        },
        "width": 750
       }
      },
      "text/html": [
       "<div>\n",
       "        \n",
       "        \n",
       "            <div id=\"2d3a5160-7e21-439f-8f1a-549c06f64880\" class=\"plotly-graph-div\"></div>\n",
       "            <script type=\"text/javascript\">\n",
       "                require([\"plotly\"], function(Plotly) {\n",
       "                    window.PLOTLYENV=window.PLOTLYENV || {};\n",
       "                    window.PLOTLYENV.BASE_URL='https://plot.ly';\n",
       "                    \n",
       "                if (document.getElementById(\"2d3a5160-7e21-439f-8f1a-549c06f64880\")) {\n",
       "                    Plotly.newPlot(\n",
       "                        '2d3a5160-7e21-439f-8f1a-549c06f64880',\n",
       "                        [{\"labels\": [\"ATP\", \"NADPH\", \"NADH\"], \"marker\": {\"line\": {\"color\": \"#FFF\", \"width\": 1}}, \"textfont\": {\"family\": \"Arial\", \"size\": 18}, \"type\": \"pie\", \"uid\": \"19443dbb-402c-4da7-8f6c-47f0427196f3\", \"values\": [74.74335, 46.97852, 3.28177]}],\n",
       "                        {\"height\": 500, \"title\": {\"text\": \"Proportion of Energy Equivalents\"}, \"width\": 750},\n",
       "                        {\"plotlyServerURL\": \"https://plot.ly\", \"linkText\": \"Export to plot.ly\", \"showLink\": false}\n",
       "                    )\n",
       "                };\n",
       "                });\n",
       "            </script>\n",
       "        </div>"
      ]
     },
     "metadata": {},
     "output_type": "display_data"
    }
   ],
   "source": [
    "#Proportion of engergy eqivalents\n",
    "\n",
    "trace = go.Pie(\n",
    "    labels = ['ATP', 'NADPH', 'NADH'],\n",
    "    values = [ATP_Pro, NADPH_Pro, NADH_Pro],\n",
    "    textfont=dict(size=18,family='Arial'),\n",
    "    marker=dict(line=dict(color='#FFF', width=1)),\n",
    ")\n",
    "\n",
    "data = [trace]\n",
    "\n",
    "layout = go.Layout(\n",
    "            height=500, \n",
    "            width=750, \n",
    "            title = 'Proportion of Energy Equivalents'\n",
    "    )\n",
    "\n",
    "fig = go.Figure(data=data, layout=layout)\n",
    "\n",
    "if save_fig:\n",
    "    iplot(fig,filename='E_Pro_proportion',image='svg',image_height=500,image_width=750)\n",
    "    sleep(5)\n",
    "else:\n",
    "    iplot(fig)"
   ]
  },
  {
   "cell_type": "code",
   "execution_count": 18,
   "metadata": {
    "ExecuteTime": {
     "end_time": "2019-05-06T13:26:26.035935Z",
     "start_time": "2019-05-06T15:26:25.897580+02:00"
    },
    "collapsed": false
   },
   "outputs": [
    {
     "name": "stdout",
     "output_type": "stream",
     "text": [
      "[0.15270708327974447, 0.050349979617494885, 0.009111187245501572]\n"
     ]
    },
    {
     "data": {
      "application/vnd.plotly.v1+json": {
       "config": {
        "linkText": "Export to plot.ly",
        "plotlyServerURL": "https://plot.ly",
        "showLink": false
       },
       "data": [
        {
         "labels": [
          "NGAM_h",
          "NGAM_c",
          "NGAM_m",
          "Others"
         ],
         "marker": {
          "line": {
           "color": "#FFF",
           "width": 1
          }
         },
         "textfont": {
          "family": "Arial",
          "size": 18
         },
         "type": "pie",
         "uid": "559fb36d-bac1-4025-84b8-17dded36be4e",
         "values": [
          0.15270708327974447,
          0.050349979617494885,
          0.009111187245501572,
          0.543098465140307
         ]
        }
       ],
       "layout": {
        "height": 500,
        "title": {
         "text": "Proportion of Respiratory ATP"
        },
        "width": 750
       }
      },
      "text/html": [
       "<div>\n",
       "        \n",
       "        \n",
       "            <div id=\"c4e19756-34c5-47fe-92f5-b77ba71c6a98\" class=\"plotly-graph-div\"></div>\n",
       "            <script type=\"text/javascript\">\n",
       "                require([\"plotly\"], function(Plotly) {\n",
       "                    window.PLOTLYENV=window.PLOTLYENV || {};\n",
       "                    window.PLOTLYENV.BASE_URL='https://plot.ly';\n",
       "                    \n",
       "                if (document.getElementById(\"c4e19756-34c5-47fe-92f5-b77ba71c6a98\")) {\n",
       "                    Plotly.newPlot(\n",
       "                        'c4e19756-34c5-47fe-92f5-b77ba71c6a98',\n",
       "                        [{\"labels\": [\"NGAM_h\", \"NGAM_c\", \"NGAM_m\", \"Others\"], \"marker\": {\"line\": {\"color\": \"#FFF\", \"width\": 1}}, \"textfont\": {\"family\": \"Arial\", \"size\": 18}, \"type\": \"pie\", \"uid\": \"bb76bdab-6ceb-4dd1-bd3a-e21c432169b2\", \"values\": [0.15270708327974447, 0.050349979617494885, 0.009111187245501572, 0.543098465140307]}],\n",
       "                        {\"height\": 500, \"title\": {\"text\": \"Proportion of Respiratory ATP\"}, \"width\": 750},\n",
       "                        {\"plotlyServerURL\": \"https://plot.ly\", \"linkText\": \"Export to plot.ly\", \"showLink\": false}\n",
       "                    )\n",
       "                };\n",
       "                });\n",
       "            </script>\n",
       "        </div>"
      ]
     },
     "metadata": {},
     "output_type": "display_data"
    },
    {
     "name": "stdout",
     "output_type": "stream",
     "text": [
      "ATP Maintainence : Respiratory ATP  =  28.092%\n"
     ]
    }
   ],
   "source": [
    "#Proportion of maintenace costs on respiratory ATP\n",
    "\n",
    "L_r_NGAM = ['NGAM_h','NGAM_c','NGAM_m']\n",
    "L_flux = [result_pfba_c3.fluxes[r_id] for r_id in L_r_NGAM]\n",
    "print(L_flux)\n",
    "cplx5_m = c3_model.reactions.get_by_id('cplx5_m')\n",
    "ATP_cplx5 = result_pfba_c3.fluxes['cplx5_m'] * cplx5_m.get_coefficient('ATP_m')\n",
    "\n",
    "trace = go.Pie(\n",
    "    labels = L_r_NGAM + ['Others'],\n",
    "    values = L_flux + [ATP_cplx5 - sum(L_flux)],\n",
    "    textfont=dict(size=18,family='Arial',),\n",
    "    marker=dict(line=dict(color='#FFF', width=1)),\n",
    ")\n",
    "\n",
    "data = [trace]\n",
    "\n",
    "layout = go.Layout(\n",
    "            title=\"Proportion of Respiratory ATP\",\n",
    "            height=500, \n",
    "            width=750,\n",
    "            \n",
    "    )\n",
    "\n",
    "fig = go.Figure(data=data, layout=layout)\n",
    "\n",
    "if save_fig:\n",
    "    iplot(fig,filename='maintenance_respiratory_ATP',image='svg',image_height=500,image_width=750)\n",
    "    sleep(5)\n",
    "else:\n",
    "    iplot(fig)\n",
    "    \n",
    "print('ATP Maintainence : Respiratory ATP  =  %s%%' %(round(sum(L_flux) / (ATP_cplx5) * 100,3)))"
   ]
  },
  {
   "cell_type": "code",
   "execution_count": 19,
   "metadata": {
    "ExecuteTime": {
     "end_time": "2019-05-06T13:26:27.049377Z",
     "start_time": "2019-05-06T15:26:26.037403+02:00"
    },
    "collapsed": true
   },
   "outputs": [],
   "source": [
    "#save results to excel\n",
    "df = pd.DataFrame(columns=['rxn','subsystem','flux'])\n",
    "L_subsystem = []\n",
    "L_transport = []\n",
    "for r_obj in c3_model.reactions:\n",
    "    L_goId = r_obj.annotation['go']\n",
    "    if not isinstance(L_goId, list):\n",
    "        L_goId = [L_goId]\n",
    "    L_goTerm = [goDB[goId].name for goId in L_goId]\n",
    "    L_subsystem = L_subsystem + L_goTerm\n",
    "    if 'GO:0006810' in L_goId:\n",
    "        L_transport.append(r_obj.id)\n",
    "    df.loc[r_obj.id] = [r_obj.reaction,', '.join(L_goTerm),result_pfba_c3.fluxes[r_obj.id]]\n",
    "\n",
    "writer = pd.ExcelWriter(theNotebook+'/excel/flux_solution.xlsx')\n",
    "df.to_excel(writer)\n",
    "writer.save()"
   ]
  },
  {
   "cell_type": "code",
   "execution_count": 20,
   "metadata": {
    "ExecuteTime": {
     "end_time": "2019-05-06T13:26:27.057207Z",
     "start_time": "2019-05-06T15:26:27.050756+02:00"
    },
    "collapsed": false
   },
   "outputs": [
    {
     "name": "stdout",
     "output_type": "stream",
     "text": [
      "Number of reactions: 572\n",
      "Number of internal transporters: 139\n",
      "Number of export reactions: 90\n",
      "Number of import reactions: 8\n",
      "Number of subsystems: 59\n",
      "Number of metabolites: 413\n"
     ]
    }
   ],
   "source": [
    "#Print characteristic numbers of model\n",
    "print('Number of reactions: %s' %len(c3_model.reactions))\n",
    "L_r_transport = [r_id for r_id in L_transport if r_id[:2] == 'Tr']\n",
    "L_r_export = [r_id for r_id in L_transport if r_id[:2] == 'Ex']\n",
    "L_r_import = [r_id for r_id in L_transport if r_id[:2] == 'Im']\n",
    "print('Number of internal transporters: %s' %len(L_r_transport))\n",
    "print('Number of export reactions: %s' %len(L_r_export))\n",
    "print('Number of import reactions: %s' %len(L_r_import))\n",
    "print('Number of subsystems: %s' %len(list(set(L_subsystem))))\n",
    "print('Number of metabolites: %s' %len(c3_model.metabolites))"
   ]
  },
  {
   "cell_type": "code",
   "execution_count": 21,
   "metadata": {
    "ExecuteTime": {
     "end_time": "2019-05-06T13:26:27.088198Z",
     "start_time": "2019-05-06T15:26:27.059874+02:00"
    },
    "collapsed": false
   },
   "outputs": [],
   "source": [
    "#Create dataframe for input and output reactions\n",
    "df = pd.DataFrame(columns=['RXN','Flux'])\n",
    "for r_id in L_r_export:\n",
    "    r_flux = result_pfba_c3.fluxes[r_id]\n",
    "    if round(r_flux,5) != 0:\n",
    "        r_obj = c3_model.reactions.get_by_id(r_id)\n",
    "        df.loc[r_id] = [r_obj.reaction,r_flux]\n",
    "for r_id in L_r_import:\n",
    "    r_flux = result_pfba_c3.fluxes[r_id]\n",
    "    if abs(round(r_flux,5)) > 0:\n",
    "        r_obj = c3_model.reactions.get_by_id(r_id)\n",
    "        df.loc[r_id] = [r_obj.reaction,r_flux]\n",
    "\n",
    "max_flux = max(df['Flux'])\n",
    "min_flux = min(df['Flux'])"
   ]
  },
  {
   "cell_type": "code",
   "execution_count": 22,
   "metadata": {
    "ExecuteTime": {
     "end_time": "2019-05-06T13:26:27.557734Z",
     "start_time": "2019-05-06T15:26:27.089772+02:00"
    },
    "collapsed": false
   },
   "outputs": [
    {
     "name": "stdout",
     "output_type": "stream",
     "text": [
      "This is the format of your plot grid:\n",
      "[ (1,1) x1,y1 ]  [ (1,2) x2,y2 ]  [ (1,3) x3,y3 ]\n",
      "[ (2,1) x4,y4 ]  [ (2,2) x5,y5 ]  [ (2,3) x6,y6 ]\n",
      "[ (3,1) x7,y7 ]  [ (3,2) x8,y8 ]  [ (3,3) x9,y9 ]\n",
      "\n"
     ]
    },
    {
     "data": {
      "application/vnd.plotly.v1+json": {
       "config": {
        "linkText": "Export to plot.ly",
        "plotlyServerURL": "https://plot.ly",
        "showLink": false
       },
       "data": [
        {
         "marker": {
          "color": "rgba(219, 64, 82, 0.7)",
          "line": {
           "color": "rgba(219, 64, 82, 1.0)",
           "width": 2
          }
         },
         "showlegend": false,
         "text": [
          "20.929"
         ],
         "textposition": "auto",
         "type": "bar",
         "uid": "cb4b8a45-235e-4679-b1f6-29bed40661c1",
         "x": [
          1
         ],
         "xaxis": "x",
         "y": [
          20.928896483183088
         ],
         "yaxis": "y"
        },
        {
         "marker": {
          "color": "rgba(219, 64, 82, 0.7)",
          "line": {
           "color": "rgba(219, 64, 82, 1.0)",
           "width": 2
          }
         },
         "showlegend": false,
         "text": [
          "0.767"
         ],
         "textposition": "auto",
         "type": "bar",
         "uid": "a4f4d155-0763-4dfb-8639-4abdf593c27b",
         "x": [
          1
         ],
         "xaxis": "x2",
         "y": [
          0.7671787003295374
         ],
         "yaxis": "y2"
        },
        {
         "marker": {
          "color": "rgba(219, 64, 82, 0.7)",
          "line": {
           "color": "rgba(219, 64, 82, 1.0)",
           "width": 2
          }
         },
         "showlegend": false,
         "text": [
          "0.767"
         ],
         "textposition": "auto",
         "type": "bar",
         "uid": "98002784-8bc3-40e7-9847-29ce8fb73d0f",
         "x": [
          1
         ],
         "xaxis": "x3",
         "y": [
          0.7671787003295374
         ],
         "yaxis": "y3"
        },
        {
         "marker": {
          "color": "rgba(219, 64, 82, 0.7)",
          "line": {
           "color": "rgba(219, 64, 82, 1.0)",
           "width": 2
          }
         },
         "showlegend": false,
         "text": [
          "0.349"
         ],
         "textposition": "auto",
         "type": "bar",
         "uid": "09690693-8170-405f-9e3b-9dc6172b2bff",
         "x": [
          1
         ],
         "xaxis": "x4",
         "y": [
          0.3487175910588806
         ],
         "yaxis": "y4"
        },
        {
         "marker": {
          "color": "rgba(50, 171, 96, 0.7)",
          "line": {
           "color": "rgba(50, 171, 96, 1.0)",
           "width": 2
          }
         },
         "showlegend": false,
         "text": [
          "193.711"
         ],
         "textposition": "auto",
         "type": "bar",
         "uid": "411e846a-3b81-4f1f-8e65-b4799cd999f5",
         "x": [
          1
         ],
         "xaxis": "x5",
         "y": [
          193.71121164846429
         ],
         "yaxis": "y5"
        },
        {
         "marker": {
          "color": "rgba(50, 171, 96, 0.7)",
          "line": {
           "color": "rgba(50, 171, 96, 1.0)",
           "width": 2
          }
         },
         "showlegend": false,
         "text": [
          "20.0"
         ],
         "textposition": "auto",
         "type": "bar",
         "uid": "1b2dd7c9-48ae-459c-b863-7c9f8bb3665b",
         "x": [
          1
         ],
         "xaxis": "x6",
         "y": [
          19.999999999999986
         ],
         "yaxis": "y6"
        },
        {
         "marker": {
          "color": "rgba(50, 171, 96, 0.7)",
          "line": {
           "color": "rgba(50, 171, 96, 1.0)",
           "width": 2
          }
         },
         "showlegend": false,
         "text": [
          "18.183"
         ],
         "textposition": "auto",
         "type": "bar",
         "uid": "797def16-b388-41e1-afdc-bc2eb2fe52b7",
         "x": [
          1
         ],
         "xaxis": "x7",
         "y": [
          18.183355709378723
         ],
         "yaxis": "y7"
        },
        {
         "marker": {
          "color": "rgba(50, 171, 96, 0.7)",
          "line": {
           "color": "rgba(50, 171, 96, 1.0)",
           "width": 2
          }
         },
         "showlegend": false,
         "text": [
          "0.528"
         ],
         "textposition": "auto",
         "type": "bar",
         "uid": "2e0f7249-7bfc-4fc4-a801-8a82cdaefd1a",
         "x": [
          1
         ],
         "xaxis": "x8",
         "y": [
          0.5279584328631527
         ],
         "yaxis": "y8"
        },
        {
         "marker": {
          "color": "rgba(50, 171, 96, 0.7)",
          "line": {
           "color": "rgba(50, 171, 96, 1.0)",
           "width": 2
          }
         },
         "showlegend": false,
         "text": [
          "0.002"
         ],
         "textposition": "auto",
         "type": "bar",
         "uid": "11cb0565-084c-444e-9bb0-035df6c37813",
         "x": [
          1
         ],
         "xaxis": "x9",
         "y": [
          0.002441023137412209
         ],
         "yaxis": "y9"
        }
       ],
       "layout": {
        "annotations": [
         {
          "font": {
           "size": 16
          },
          "showarrow": false,
          "text": "Ex_O2",
          "x": 0.14444444444444446,
          "xanchor": "center",
          "xref": "paper",
          "y": 1,
          "yanchor": "bottom",
          "yref": "paper"
         },
         {
          "font": {
           "size": 16
          },
          "showarrow": false,
          "text": "Ex_starch",
          "x": 0.5,
          "xanchor": "center",
          "xref": "paper",
          "y": 1,
          "yanchor": "bottom",
          "yref": "paper"
         },
         {
          "font": {
           "size": 16
          },
          "showarrow": false,
          "text": "Ex_Suc",
          "x": 0.8555555555555556,
          "xanchor": "center",
          "xref": "paper",
          "y": 1,
          "yanchor": "bottom",
          "yref": "paper"
         },
         {
          "font": {
           "size": 16
          },
          "showarrow": false,
          "text": "Ex_AA",
          "x": 0.14444444444444446,
          "xanchor": "center",
          "xref": "paper",
          "y": 0.6111111111111112,
          "yanchor": "bottom",
          "yref": "paper"
         },
         {
          "font": {
           "size": 16
          },
          "showarrow": false,
          "text": "Im_hnu",
          "x": 0.5,
          "xanchor": "center",
          "xref": "paper",
          "y": 0.6111111111111112,
          "yanchor": "bottom",
          "yref": "paper"
         },
         {
          "font": {
           "size": 16
          },
          "showarrow": false,
          "text": "Im_CO2",
          "x": 0.8555555555555556,
          "xanchor": "center",
          "xref": "paper",
          "y": 0.6111111111111112,
          "yanchor": "bottom",
          "yref": "paper"
         },
         {
          "font": {
           "size": 16
          },
          "showarrow": false,
          "text": "Im_H2O",
          "x": 0.14444444444444446,
          "xanchor": "center",
          "xref": "paper",
          "y": 0.22222222222222224,
          "yanchor": "bottom",
          "yref": "paper"
         },
         {
          "font": {
           "size": 16
          },
          "showarrow": false,
          "text": "Im_NO3",
          "x": 0.5,
          "xanchor": "center",
          "xref": "paper",
          "y": 0.22222222222222224,
          "yanchor": "bottom",
          "yref": "paper"
         },
         {
          "font": {
           "size": 16
          },
          "showarrow": false,
          "text": "Im_SO4",
          "x": 0.8555555555555556,
          "xanchor": "center",
          "xref": "paper",
          "y": 0.22222222222222224,
          "yanchor": "bottom",
          "yref": "paper"
         }
        ],
        "height": 1000,
        "width": 1000,
        "xaxis": {
         "anchor": "y",
         "domain": [
          0,
          0.2888888888888889
         ],
         "showticklabels": false
        },
        "xaxis2": {
         "anchor": "y2",
         "domain": [
          0.35555555555555557,
          0.6444444444444445
         ],
         "showticklabels": false
        },
        "xaxis3": {
         "anchor": "y3",
         "domain": [
          0.7111111111111111,
          1
         ],
         "showticklabels": false
        },
        "xaxis4": {
         "anchor": "y4",
         "domain": [
          0,
          0.2888888888888889
         ],
         "showticklabels": false
        },
        "xaxis5": {
         "anchor": "y5",
         "domain": [
          0.35555555555555557,
          0.6444444444444445
         ],
         "showticklabels": false
        },
        "xaxis6": {
         "anchor": "y6",
         "domain": [
          0.7111111111111111,
          1
         ],
         "showticklabels": false
        },
        "xaxis7": {
         "anchor": "y7",
         "domain": [
          0,
          0.2888888888888889
         ],
         "showticklabels": false
        },
        "xaxis8": {
         "anchor": "y8",
         "domain": [
          0.35555555555555557,
          0.6444444444444445
         ],
         "showticklabels": false
        },
        "xaxis9": {
         "anchor": "y9",
         "domain": [
          0.7111111111111111,
          1
         ],
         "showticklabels": false
        },
        "yaxis": {
         "anchor": "x",
         "domain": [
          0.7777777777777778,
          1
         ],
         "range": [
          0,
          193.71121164846429
         ],
         "title": {
          "text": "Flux  [µmol/s/m2]"
         }
        },
        "yaxis2": {
         "anchor": "x2",
         "domain": [
          0.7777777777777778,
          1
         ],
         "range": [
          0,
          193.71121164846429
         ],
         "title": {
          "text": "Flux  [µmol/s/m2]"
         }
        },
        "yaxis3": {
         "anchor": "x3",
         "domain": [
          0.7777777777777778,
          1
         ],
         "range": [
          0,
          193.71121164846429
         ],
         "title": {
          "text": "Flux  [µmol/s/m2]"
         }
        },
        "yaxis4": {
         "anchor": "x4",
         "domain": [
          0.3888888888888889,
          0.6111111111111112
         ],
         "range": [
          0,
          193.71121164846429
         ],
         "title": {
          "text": "Flux  [µmol/s/m2]"
         }
        },
        "yaxis5": {
         "anchor": "x5",
         "domain": [
          0.3888888888888889,
          0.6111111111111112
         ],
         "range": [
          0,
          193.71121164846429
         ],
         "title": {
          "text": "Flux  [µmol/s/m2]"
         }
        },
        "yaxis6": {
         "anchor": "x6",
         "domain": [
          0.3888888888888889,
          0.6111111111111112
         ],
         "range": [
          0,
          193.71121164846429
         ],
         "title": {
          "text": "Flux  [µmol/s/m2]"
         }
        },
        "yaxis7": {
         "anchor": "x7",
         "domain": [
          0,
          0.22222222222222224
         ],
         "range": [
          0,
          193.71121164846429
         ],
         "title": {
          "text": "Flux  [µmol/s/m2]"
         }
        },
        "yaxis8": {
         "anchor": "x8",
         "domain": [
          0,
          0.22222222222222224
         ],
         "range": [
          0,
          193.71121164846429
         ],
         "title": {
          "text": "Flux  [µmol/s/m2]"
         }
        },
        "yaxis9": {
         "anchor": "x9",
         "domain": [
          0,
          0.22222222222222224
         ],
         "range": [
          0,
          193.71121164846429
         ],
         "title": {
          "text": "Flux  [µmol/s/m2]"
         }
        }
       }
      },
      "text/html": [
       "<div>\n",
       "        \n",
       "        \n",
       "            <div id=\"678d9e88-9249-4700-a5a5-1187816cf3b5\" class=\"plotly-graph-div\"></div>\n",
       "            <script type=\"text/javascript\">\n",
       "                require([\"plotly\"], function(Plotly) {\n",
       "                    window.PLOTLYENV=window.PLOTLYENV || {};\n",
       "                    window.PLOTLYENV.BASE_URL='https://plot.ly';\n",
       "                    \n",
       "                if (document.getElementById(\"678d9e88-9249-4700-a5a5-1187816cf3b5\")) {\n",
       "                    Plotly.newPlot(\n",
       "                        '678d9e88-9249-4700-a5a5-1187816cf3b5',\n",
       "                        [{\"marker\": {\"color\": \"rgba(219, 64, 82, 0.7)\", \"line\": {\"color\": \"rgba(219, 64, 82, 1.0)\", \"width\": 2}}, \"showlegend\": false, \"text\": [\"20.929\"], \"textposition\": \"auto\", \"type\": \"bar\", \"uid\": \"4758a385-6f9d-4d58-bc9c-5c39a11e1839\", \"x\": [1], \"xaxis\": \"x\", \"y\": [20.928896483183088], \"yaxis\": \"y\"}, {\"marker\": {\"color\": \"rgba(219, 64, 82, 0.7)\", \"line\": {\"color\": \"rgba(219, 64, 82, 1.0)\", \"width\": 2}}, \"showlegend\": false, \"text\": [\"0.767\"], \"textposition\": \"auto\", \"type\": \"bar\", \"uid\": \"25c07b21-9f5e-4a30-8b79-9a74144d0240\", \"x\": [1], \"xaxis\": \"x2\", \"y\": [0.7671787003295374], \"yaxis\": \"y2\"}, {\"marker\": {\"color\": \"rgba(219, 64, 82, 0.7)\", \"line\": {\"color\": \"rgba(219, 64, 82, 1.0)\", \"width\": 2}}, \"showlegend\": false, \"text\": [\"0.767\"], \"textposition\": \"auto\", \"type\": \"bar\", \"uid\": \"f80a0748-8a95-4b90-a4a7-f67cab79f4f6\", \"x\": [1], \"xaxis\": \"x3\", \"y\": [0.7671787003295374], \"yaxis\": \"y3\"}, {\"marker\": {\"color\": \"rgba(219, 64, 82, 0.7)\", \"line\": {\"color\": \"rgba(219, 64, 82, 1.0)\", \"width\": 2}}, \"showlegend\": false, \"text\": [\"0.349\"], \"textposition\": \"auto\", \"type\": \"bar\", \"uid\": \"0151abfa-825e-49da-abb9-f58d1b5fd60d\", \"x\": [1], \"xaxis\": \"x4\", \"y\": [0.3487175910588806], \"yaxis\": \"y4\"}, {\"marker\": {\"color\": \"rgba(50, 171, 96, 0.7)\", \"line\": {\"color\": \"rgba(50, 171, 96, 1.0)\", \"width\": 2}}, \"showlegend\": false, \"text\": [\"193.711\"], \"textposition\": \"auto\", \"type\": \"bar\", \"uid\": \"30ea2919-4448-426d-8f83-c57c38db7480\", \"x\": [1], \"xaxis\": \"x5\", \"y\": [193.71121164846429], \"yaxis\": \"y5\"}, {\"marker\": {\"color\": \"rgba(50, 171, 96, 0.7)\", \"line\": {\"color\": \"rgba(50, 171, 96, 1.0)\", \"width\": 2}}, \"showlegend\": false, \"text\": [\"20.0\"], \"textposition\": \"auto\", \"type\": \"bar\", \"uid\": \"a396a0a2-92ae-4861-9c6c-f1044b364b37\", \"x\": [1], \"xaxis\": \"x6\", \"y\": [19.999999999999986], \"yaxis\": \"y6\"}, {\"marker\": {\"color\": \"rgba(50, 171, 96, 0.7)\", \"line\": {\"color\": \"rgba(50, 171, 96, 1.0)\", \"width\": 2}}, \"showlegend\": false, \"text\": [\"18.183\"], \"textposition\": \"auto\", \"type\": \"bar\", \"uid\": \"b780e511-c094-4da3-9445-7c5b09af7043\", \"x\": [1], \"xaxis\": \"x7\", \"y\": [18.183355709378723], \"yaxis\": \"y7\"}, {\"marker\": {\"color\": \"rgba(50, 171, 96, 0.7)\", \"line\": {\"color\": \"rgba(50, 171, 96, 1.0)\", \"width\": 2}}, \"showlegend\": false, \"text\": [\"0.528\"], \"textposition\": \"auto\", \"type\": \"bar\", \"uid\": \"51ebc002-cde1-4a26-93ea-c5d3be2127ee\", \"x\": [1], \"xaxis\": \"x8\", \"y\": [0.5279584328631527], \"yaxis\": \"y8\"}, {\"marker\": {\"color\": \"rgba(50, 171, 96, 0.7)\", \"line\": {\"color\": \"rgba(50, 171, 96, 1.0)\", \"width\": 2}}, \"showlegend\": false, \"text\": [\"0.002\"], \"textposition\": \"auto\", \"type\": \"bar\", \"uid\": \"9e79ffb3-cb4a-4cec-a7a2-743b1e570176\", \"x\": [1], \"xaxis\": \"x9\", \"y\": [0.002441023137412209], \"yaxis\": \"y9\"}],\n",
       "                        {\"annotations\": [{\"font\": {\"size\": 16}, \"showarrow\": false, \"text\": \"Ex_O2\", \"x\": 0.14444444444444446, \"xanchor\": \"center\", \"xref\": \"paper\", \"y\": 1.0, \"yanchor\": \"bottom\", \"yref\": \"paper\"}, {\"font\": {\"size\": 16}, \"showarrow\": false, \"text\": \"Ex_starch\", \"x\": 0.5, \"xanchor\": \"center\", \"xref\": \"paper\", \"y\": 1.0, \"yanchor\": \"bottom\", \"yref\": \"paper\"}, {\"font\": {\"size\": 16}, \"showarrow\": false, \"text\": \"Ex_Suc\", \"x\": 0.8555555555555556, \"xanchor\": \"center\", \"xref\": \"paper\", \"y\": 1.0, \"yanchor\": \"bottom\", \"yref\": \"paper\"}, {\"font\": {\"size\": 16}, \"showarrow\": false, \"text\": \"Ex_AA\", \"x\": 0.14444444444444446, \"xanchor\": \"center\", \"xref\": \"paper\", \"y\": 0.6111111111111112, \"yanchor\": \"bottom\", \"yref\": \"paper\"}, {\"font\": {\"size\": 16}, \"showarrow\": false, \"text\": \"Im_hnu\", \"x\": 0.5, \"xanchor\": \"center\", \"xref\": \"paper\", \"y\": 0.6111111111111112, \"yanchor\": \"bottom\", \"yref\": \"paper\"}, {\"font\": {\"size\": 16}, \"showarrow\": false, \"text\": \"Im_CO2\", \"x\": 0.8555555555555556, \"xanchor\": \"center\", \"xref\": \"paper\", \"y\": 0.6111111111111112, \"yanchor\": \"bottom\", \"yref\": \"paper\"}, {\"font\": {\"size\": 16}, \"showarrow\": false, \"text\": \"Im_H2O\", \"x\": 0.14444444444444446, \"xanchor\": \"center\", \"xref\": \"paper\", \"y\": 0.22222222222222224, \"yanchor\": \"bottom\", \"yref\": \"paper\"}, {\"font\": {\"size\": 16}, \"showarrow\": false, \"text\": \"Im_NO3\", \"x\": 0.5, \"xanchor\": \"center\", \"xref\": \"paper\", \"y\": 0.22222222222222224, \"yanchor\": \"bottom\", \"yref\": \"paper\"}, {\"font\": {\"size\": 16}, \"showarrow\": false, \"text\": \"Im_SO4\", \"x\": 0.8555555555555556, \"xanchor\": \"center\", \"xref\": \"paper\", \"y\": 0.22222222222222224, \"yanchor\": \"bottom\", \"yref\": \"paper\"}], \"height\": 1000, \"width\": 1000, \"xaxis\": {\"anchor\": \"y\", \"domain\": [0.0, 0.2888888888888889], \"showticklabels\": false}, \"xaxis2\": {\"anchor\": \"y2\", \"domain\": [0.35555555555555557, 0.6444444444444445], \"showticklabels\": false}, \"xaxis3\": {\"anchor\": \"y3\", \"domain\": [0.7111111111111111, 1.0], \"showticklabels\": false}, \"xaxis4\": {\"anchor\": \"y4\", \"domain\": [0.0, 0.2888888888888889], \"showticklabels\": false}, \"xaxis5\": {\"anchor\": \"y5\", \"domain\": [0.35555555555555557, 0.6444444444444445], \"showticklabels\": false}, \"xaxis6\": {\"anchor\": \"y6\", \"domain\": [0.7111111111111111, 1.0], \"showticklabels\": false}, \"xaxis7\": {\"anchor\": \"y7\", \"domain\": [0.0, 0.2888888888888889], \"showticklabels\": false}, \"xaxis8\": {\"anchor\": \"y8\", \"domain\": [0.35555555555555557, 0.6444444444444445], \"showticklabels\": false}, \"xaxis9\": {\"anchor\": \"y9\", \"domain\": [0.7111111111111111, 1.0], \"showticklabels\": false}, \"yaxis\": {\"anchor\": \"x\", \"domain\": [0.7777777777777778, 1.0], \"range\": [0, 193.71121164846429], \"title\": {\"text\": \"Flux  [\\u00b5mol/s/m2]\"}}, \"yaxis2\": {\"anchor\": \"x2\", \"domain\": [0.7777777777777778, 1.0], \"range\": [0, 193.71121164846429], \"title\": {\"text\": \"Flux  [\\u00b5mol/s/m2]\"}}, \"yaxis3\": {\"anchor\": \"x3\", \"domain\": [0.7777777777777778, 1.0], \"range\": [0, 193.71121164846429], \"title\": {\"text\": \"Flux  [\\u00b5mol/s/m2]\"}}, \"yaxis4\": {\"anchor\": \"x4\", \"domain\": [0.3888888888888889, 0.6111111111111112], \"range\": [0, 193.71121164846429], \"title\": {\"text\": \"Flux  [\\u00b5mol/s/m2]\"}}, \"yaxis5\": {\"anchor\": \"x5\", \"domain\": [0.3888888888888889, 0.6111111111111112], \"range\": [0, 193.71121164846429], \"title\": {\"text\": \"Flux  [\\u00b5mol/s/m2]\"}}, \"yaxis6\": {\"anchor\": \"x6\", \"domain\": [0.3888888888888889, 0.6111111111111112], \"range\": [0, 193.71121164846429], \"title\": {\"text\": \"Flux  [\\u00b5mol/s/m2]\"}}, \"yaxis7\": {\"anchor\": \"x7\", \"domain\": [0.0, 0.22222222222222224], \"range\": [0, 193.71121164846429], \"title\": {\"text\": \"Flux  [\\u00b5mol/s/m2]\"}}, \"yaxis8\": {\"anchor\": \"x8\", \"domain\": [0.0, 0.22222222222222224], \"range\": [0, 193.71121164846429], \"title\": {\"text\": \"Flux  [\\u00b5mol/s/m2]\"}}, \"yaxis9\": {\"anchor\": \"x9\", \"domain\": [0.0, 0.22222222222222224], \"range\": [0, 193.71121164846429], \"title\": {\"text\": \"Flux  [\\u00b5mol/s/m2]\"}}},\n",
       "                        {\"plotlyServerURL\": \"https://plot.ly\", \"linkText\": \"Export to plot.ly\", \"showLink\": false}\n",
       "                    )\n",
       "                };\n",
       "                });\n",
       "            </script>\n",
       "        </div>"
      ]
     },
     "metadata": {},
     "output_type": "display_data"
    }
   ],
   "source": [
    "#Create figure for input and output reactions\n",
    "i_max = 3\n",
    "j_max = 3\n",
    "r_max = len(df.index)\n",
    "trace = {}\n",
    "D_r_name = {}\n",
    "\n",
    "for n, r_id in enumerate(df.index):\n",
    "    D_r_name[n+1] = r_id\n",
    "    r_flux = df.get_value(r_id, 'Flux')\n",
    "    trace[n+1] = go.Bar(\n",
    "        x=[1],\n",
    "        y=[r_flux],\n",
    "        text = [str(round(r_flux,3))],\n",
    "        textposition= 'auto',\n",
    "        showlegend=False,\n",
    "        marker=dict(\n",
    "                color='rgba(219, 64, 82, 0.7)' if r_id[:2] == 'Ex' else 'rgba(50, 171, 96, 0.7)',\n",
    "                line=dict(\n",
    "                        color='rgba(219, 64, 82, 1.0)' if r_id[:2] == 'Ex' else 'rgba(50, 171, 96, 1.0)',\n",
    "                        width=2)))\n",
    "\n",
    "fig = ply.tools.make_subplots(rows=i_max, cols=j_max, subplot_titles=D_r_name.values())\n",
    "\n",
    "k = 1\n",
    "for i in range(1,i_max+1):\n",
    "    for j in range(1,j_max+1):\n",
    "        if k <= r_max:\n",
    "            fig.append_trace(trace[k], i, j)\n",
    "        else:\n",
    "            break\n",
    "        k += 1\n",
    "        \n",
    "fig['layout'].update(height=1000, width=1000)\n",
    "\n",
    "\n",
    "for k in range(1,i_max*j_max+1):\n",
    "    if k <= r_max:\n",
    "            fig['layout']['yaxis'+str(k)].update(title='Flux  [µmol/s/m2]', range=[0, max_flux])\n",
    "            fig['layout']['xaxis'+str(k)].update(showticklabels=False)\n",
    "    else:\n",
    "            break\n",
    "\n",
    "if save_fig:\n",
    "    iplot(fig, filename='input_output_fluxes',image='svg',image_height=1000,image_width=1000)\n",
    "    sleep(5)\n",
    "else:\n",
    "    iplot(fig)"
   ]
  }
 ],
 "metadata": {
  "anaconda-cloud": {},
  "kernelspec": {
   "display_name": "Python [default]",
   "language": "python",
   "name": "python2"
  },
  "language_info": {
   "codemirror_mode": {
    "name": "ipython",
    "version": 2
   },
   "file_extension": ".py",
   "mimetype": "text/x-python",
   "name": "python",
   "nbconvert_exporter": "python",
   "pygments_lexer": "ipython2",
   "version": "2.7.6"
  },
  "latex_envs": {
   "LaTeX_envs_menu_present": true,
   "autoclose": false,
   "autocomplete": true,
   "bibliofile": "biblio.bib",
   "cite_by": "apalike",
   "current_citInitial": 1,
   "eqLabelWithNumbers": true,
   "eqNumInitial": 1,
   "hotkeys": {
    "equation": "Ctrl-E",
    "itemize": "Ctrl-I"
   },
   "labels_anchors": false,
   "latex_user_defs": false,
   "report_style_numbering": false,
   "user_envs_cfg": false
  }
 },
 "nbformat": 4,
 "nbformat_minor": 2
}
